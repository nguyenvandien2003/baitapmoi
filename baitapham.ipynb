{
  "nbformat": 4,
  "nbformat_minor": 0,
  "metadata": {
    "colab": {
      "name": "baitapham.ipynb",
      "provenance": [],
      "authorship_tag": "ABX9TyN3NZZF7krjVX2dePh0vRBs",
      "include_colab_link": true
    },
    "kernelspec": {
      "name": "python3",
      "display_name": "Python 3"
    },
    "language_info": {
      "name": "python"
    }
  },
  "cells": [
    {
      "cell_type": "markdown",
      "metadata": {
        "id": "view-in-github",
        "colab_type": "text"
      },
      "source": [
        "<a href=\"https://colab.research.google.com/github/nguyenvandien2003/baitapmoi/blob/main/baitapham.ipynb\" target=\"_parent\"><img src=\"https://colab.research.google.com/assets/colab-badge.svg\" alt=\"Open In Colab\"/></a>"
      ]
    },
    {
      "cell_type": "markdown",
      "metadata": {
        "id": "E6XJ6fnoxpMM"
      },
      "source": [
        "Bài 1: Hãy xây dựng một hàm thực hiện các yêu cầu sau:\n",
        "- Xuất ra màn hình câu thông báo: “Lập trình Java 2021”\n",
        "- Hàm không có giá trị trả về\n",
        "Từ chương trình chính, gọi thực hiện hàm này."
      ]
    },
    {
      "cell_type": "code",
      "metadata": {
        "colab": {
          "base_uri": "https://localhost:8080/"
        },
        "id": "Mplgm9algr3V",
        "outputId": "ec0d3cd4-8c1e-4976-995f-043a4700563f"
      },
      "source": [
        "def tenham1():\n",
        "  print(\"Lập trình Java 2021\")\n",
        "\n",
        "tenham1()"
      ],
      "execution_count": 25,
      "outputs": [
        {
          "output_type": "stream",
          "name": "stdout",
          "text": [
            "Lập trình Java 2021\n"
          ]
        }
      ]
    },
    {
      "cell_type": "markdown",
      "metadata": {
        "id": "8AH-lNsYvAe7"
      },
      "source": [
        "Bài 2: Hãy xây dựng một hàm thực hiện các yêu cầu sau:\n",
        "- Nhận một tham số đầu vào là một chuỗi ký tự (kiểu String)\n",
        "- Xuất ra màn hình nội dung chuỗi được truyền vào từ tham số\n",
        "- Hàm không có giá trị trả về"
      ]
    },
    {
      "cell_type": "code",
      "metadata": {
        "colab": {
          "base_uri": "https://localhost:8080/"
        },
        "id": "YO5xxT7Jm9HN",
        "outputId": "fb83aa0b-70a4-4694-8771-dd11bde34afb"
      },
      "source": [
        "def tenham2(chuoikytu):\n",
        "  print(chuoikytu)\n",
        "\n",
        "a = \"xin chao nhóm 2\"\n",
        "tenham2(a)"
      ],
      "execution_count": 70,
      "outputs": [
        {
          "output_type": "stream",
          "name": "stdout",
          "text": [
            "xin chao nhóm 2\n"
          ]
        }
      ]
    },
    {
      "cell_type": "markdown",
      "metadata": {
        "id": "3aIbKGQOvBpT"
      },
      "source": [
        "Bài 3: Hãy viết chương trình thực hiện các yêu cầu sau:\n",
        "- Nhập một số nguyên dương n từ bàn phím (kiểm tra nếu không đạt yêu cầu thì bắt nhập\n",
        "lại)\n",
        "- Nhập một thông điệp từ bàn phím\n",
        "- Gọi thực hiện hàm ở Bài 2 n lần với thông điệp được truyền làm tham số đầu vào của hàm.\n"
      ]
    },
    {
      "cell_type": "code",
      "metadata": {
        "colab": {
          "base_uri": "https://localhost:8080/"
        },
        "id": "Y_DSOTYNn1B8",
        "outputId": "bf0246aa-9735-43a1-f7a4-415b36c924e2"
      },
      "source": [
        "import string\n",
        "while True:\n",
        "  n = input(\"Nhập số nguyên n: \")\n",
        "  if n in string.digits:\n",
        "    n = int(n)\n",
        "    break\n",
        "for i in range(n):\n",
        "  tenham2(\"abc\")"
      ],
      "execution_count": 76,
      "outputs": [
        {
          "output_type": "stream",
          "name": "stdout",
          "text": [
            "Nhập số nguyên n: 5\n",
            "abc\n",
            "abc\n",
            "abc\n",
            "abc\n",
            "abc\n"
          ]
        }
      ]
    },
    {
      "cell_type": "markdown",
      "metadata": {
        "id": "nZcMFVM6vC6b"
      },
      "source": [
        "Bài 4: Hãy viết chương trình thực hiện các yêu cầu sau:\n",
        "- Xây dựng hàm giải phương trình bậc 1 (ax + b = 0), với hệ số a & b được truyền vào qua\n",
        "thông số của hàm.\n",
        "- Chương trình chính nhận các thông số a, b từ bàn phím\n",
        "- Chương trình chính gọi hàm giải phương trình bậc 1 nêu trên"
      ]
    },
    {
      "cell_type": "code",
      "metadata": {
        "colab": {
          "base_uri": "https://localhost:8080/"
        },
        "id": "LmgcczQAqvB8",
        "outputId": "219a8812-31be-4f0e-987b-d2b006b7deeb"
      },
      "source": [
        "def bai_4(a, b):\n",
        "  if a == 0:\n",
        "    if b == 0:\n",
        "      result = \"Phương trình vô số nghiệm\"\n",
        "    else:\n",
        "      result = \"Phương trình vô nghiệm\"\n",
        "  else:\n",
        "    result = -b/a\n",
        "    return result\n",
        "\n",
        "hesoA = int(input(\"Nhập hệ số a: \"))\n",
        "hesoB = int(input(\"Nhập hệ số b: \"))\n",
        "print(bai_4(hesoA, hesoB))"
      ],
      "execution_count": 54,
      "outputs": [
        {
          "output_type": "stream",
          "name": "stdout",
          "text": [
            "Nhập hệ số a: 5\n",
            "Nhập hệ số b: 2\n",
            "-0.4\n"
          ]
        }
      ]
    },
    {
      "cell_type": "markdown",
      "metadata": {
        "id": "KzFKpy1Px-pL"
      },
      "source": [
        "Bài 5: Hãy viết chương trình thực hiện các yêu cầu sau:\n",
        "- Xây dựng hàm giải phương trình bậc (ax2 + bx + c = 0), với hệ số a & b & c được truyền\n",
        "vào qua thông số của hàm.\n",
        "- Chương trình chính nhận các thông số a, b & c từ bàn phím\n",
        "- Chương trình chính gọi hàm giải phương trình bậc 2 nêu trên"
      ]
    },
    {
      "cell_type": "code",
      "metadata": {
        "colab": {
          "base_uri": "https://localhost:8080/"
        },
        "id": "6ufpEvm3r4Ic",
        "outputId": "9307a0be-e533-48e1-ce3d-3cd4a9ac1d03"
      },
      "source": [
        "import math\n",
        "def bai_5(a, b, c):\n",
        "  if a == 0:\n",
        "    print(bai_4(b, c))\n",
        "  else:\n",
        "    d = b*b-4*a*c;\n",
        "    if d > 0:\n",
        "      x1 = float((-b + math.sqrt(d)) / (2 * a))\n",
        "      x2 = float((-b - math.sqrt(d)) / (2 * a))\n",
        "      print(\"Phương trình có 2 nghiệm:\", \"\\nx =\", x1, \"\\nx =\", x2)\n",
        "    elif d == 0:\n",
        "      x1 = (-b / (2 * a))\n",
        "      \n",
        "      print(\"Phương trình có nghiệm kép: x =\", x1)\n",
        "    else:\n",
        "      print(\"Phương trình vô nghiệm!\")\n",
        "  \n",
        "hesoA = int(input(\"Nhập hệ số a: \"))\n",
        "hesoB = int(input(\"Nhập hệ số b: \"))\n",
        "hesoC = int(input(\"Nhập hệ số c: \"))\n",
        "\n",
        "bai_5(hesoA, hesoB, hesoC)"
      ],
      "execution_count": 78,
      "outputs": [
        {
          "output_type": "stream",
          "name": "stdout",
          "text": [
            "Nhập hệ số a: 2\n",
            "Nhập hệ số b:  4\n",
            "Nhập hệ số c: -4\n",
            "Phương trình có 2 nghiệm: \n",
            "x = 0.7320508075688772 \n",
            "x = -2.732050807568877\n"
          ]
        }
      ]
    },
    {
      "cell_type": "markdown",
      "metadata": {
        "id": "rq2DYjUKyO0b"
      },
      "source": [
        "Bài 6: Hãy viết chương trình thực hiện các yêu cầu sau:\n",
        "\n",
        "- Cho người dùng lựa chọn giải phương trình bậc 1 hay bậc 2 bằng cách nhập số (1 hay 2)\n",
        "từ bàn phím\n",
        "- Nếu người dùng chọn giải phương trình bậc 1, thì thực hiện các bước như Bài 4\n",
        "- Nếu người dùng chọn giải phương trình bậc 2, thì thực hiện các bước như Bài 5"
      ]
    },
    {
      "cell_type": "code",
      "metadata": {
        "colab": {
          "base_uri": "https://localhost:8080/"
        },
        "id": "YS30-YOosd0s",
        "outputId": "2a0b704e-b324-4f29-9868-307f51fdec52"
      },
      "source": [
        "while True:\n",
        "  luachon = int(input(\"Chọn 1 hoặc 2: \"))\n",
        "  if luachon == 1:\n",
        "    hesoA = int(input(\"Nhập hệ số a: \"))\n",
        "    hesoB = int(input(\"Nhập hệ số b: \"))\n",
        "    print(bai_4(hesoA, hesoB))\n",
        "    break\n",
        "  if luachon == 2:\n",
        "    hesoA = int(input(\"Nhập hệ số a: \"))\n",
        "    hesoB = int(input(\"Nhập hệ số b: \"))\n",
        "    hesoC = int(input(\"Nhập hệ số c: \"))\n",
        "    print(bai_5(hesoA, hesoB, hesoC))\n",
        "    break\n",
        "    "
      ],
      "execution_count": 79,
      "outputs": [
        {
          "output_type": "stream",
          "name": "stdout",
          "text": [
            "Chọn 1 hoặc 2: 4\n",
            "Chọn 1 hoặc 2: 2\n",
            "Nhập hệ số a: -2\n",
            "Nhập hệ số b: 4\n",
            "Nhập hệ số c: 6\n",
            "Phương trình có 2 nghiệm: \n",
            "x = -1.0 \n",
            "x = 3.0\n",
            "None\n"
          ]
        }
      ]
    }
  ]
}