{
  "nbformat": 4,
  "nbformat_minor": 0,
  "metadata": {
    "colab": {
      "name": "baitaptimkiem.ipynb",
      "provenance": [],
      "authorship_tag": "ABX9TyNcohaSXGtrOaTt62gnqq/G",
      "include_colab_link": true
    },
    "kernelspec": {
      "name": "python3",
      "display_name": "Python 3"
    },
    "language_info": {
      "name": "python"
    }
  },
  "cells": [
    {
      "cell_type": "markdown",
      "metadata": {
        "id": "view-in-github",
        "colab_type": "text"
      },
      "source": [
        "<a href=\"https://colab.research.google.com/github/nguyenvandien2003/baitapmoi/blob/main/nnltpython/29_11_2021/baitaptimkiem.ipynb\" target=\"_parent\"><img src=\"https://colab.research.google.com/assets/colab-badge.svg\" alt=\"Open In Colab\"/></a>"
      ]
    },
    {
      "cell_type": "markdown",
      "metadata": {
        "id": "pvI_cLXsIwCH"
      },
      "source": [
        "Bài 1: Viết chương trình thực hiện các yêu cầu sau:\n",
        "- Sinh ngẫu nhiên 1 danh sách n số nguyên trong đoạn [a, b], với các thông số n, a và b được\n",
        "nhập vào từ bàn phím;\n",
        "- Nhập vào 1 số x từ bàn phím có giá trị trong đoạn [a, b];\n",
        "- Tìm kiếm x có xuất hiện trong danh sách trên hay không. Nếu có thì trả về vị trí xuất hiện\n",
        "đầu tiên trong danh sách. Ngược lại, thông báo không tìm thấy."
      ]
    },
    {
      "cell_type": "code",
      "metadata": {
        "colab": {
          "base_uri": "https://localhost:8080/"
        },
        "id": "SpWnqMPUIoiD",
        "outputId": "119d2cdc-e818-4994-bd63-5f393b1ee99e"
      },
      "source": [
        "import random\n",
        "list1 = []\n",
        "n1 = int(input(\"Số phần tử của danh sách: \"))\n",
        "a1 = int(input(\"Giá trị min_value: \"))\n",
        "b1 = int(input(\"Giá trị max_value: \"))\n",
        "x1 = int(input(\"Số x: \"))\n",
        "vitri1 = 0\n",
        "for i in range(n1):\n",
        "  list1.append(random.randint(a1, b1))\n",
        "print(list1)\n",
        "for i in list1:\n",
        "  vitri1 += 1\n",
        "  if x1 == i:\n",
        "    print(\"Số\", x1, \"xuất hiện lần đầu tiên ở vị trí\", vitri1)\n",
        "    break\n",
        "else:\n",
        "  print(\"Không tìm thấy\")"
      ],
      "execution_count": 5,
      "outputs": [
        {
          "output_type": "stream",
          "name": "stdout",
          "text": [
            "Số phần tử của danh sách: 10\n",
            "Giá trị min_value: -5\n",
            "Giá trị max_value: 4\n",
            "Số x: 3\n",
            "[0, -5, -2, -5, 4, 0, 3, -4, 2, -3]\n",
            "Số 3 xuất hiện lần đầu tiên ở vị trí 7\n"
          ]
        }
      ]
    },
    {
      "cell_type": "markdown",
      "metadata": {
        "id": "yUbaOemnPzXX"
      },
      "source": [
        "2: Viết chương trình thực hiện các yêu cầu sau:\n",
        "- Sinh ngẫu nhiên 1 danh sách n số nguyên trong đoạn [a, b], với các thông số n, a và b được\n",
        "nhập vào từ bàn phím;\n",
        "- Nhập vào 1 số x từ bàn phím có giá trị trong đoạn [a, b];\n",
        "- Tìm kiếm x có xuất hiện trong danh sách trên hay không theo yêu cầu sau:\n",
        "o Nếu có thì trả về vị trí xuất hiện đầu tiên trong danh sách và thông báo số bước lặp\n",
        "đã thực hiện để tìm được phần tử này.\n",
        "o Ngược lại, thông báo không tìm thấy."
      ]
    },
    {
      "cell_type": "code",
      "metadata": {
        "colab": {
          "base_uri": "https://localhost:8080/"
        },
        "id": "K8oIO5xGPwSA",
        "outputId": "e71aeafb-b765-42b8-9bb9-32d548afac4b"
      },
      "source": [
        "list2 = []\n",
        "n2 = int(input(\"Số phần tử của danh sách: \"))\n",
        "a2 = int(input(\"Giá trị min_value: \"))\n",
        "b2 = int(input(\"Giá trị max_value: \"))\n",
        "x2 = int(input(\"Số x: \"))\n",
        "vitri2 = 0\n",
        "for i in range(n2):\n",
        "  list2.append(random.randint(a2, b2))\n",
        "print(list2)\n",
        "for i in list2:\n",
        "  vitri2 += 1\n",
        "  if x2 == i:\n",
        "    print(\"Số\", x2, \"xuất hiện lần đầu tiên ở vị trí\", vitri2)\n",
        "    print(\"Số bước lặp:\", vitri2)\n",
        "    break\n",
        "else:\n",
        "  print(\"Không tìm thấy\")"
      ],
      "execution_count": 6,
      "outputs": [
        {
          "output_type": "stream",
          "name": "stdout",
          "text": [
            "Số phần tử của danh sách: 5\n",
            "Giá trị min_value: -10\n",
            "Giá trị max_value: 2\n",
            "Số x: 2\n",
            "[-6, -5, -8, 1, -2]\n",
            "Không tìm thấy\n"
          ]
        }
      ]
    },
    {
      "cell_type": "markdown",
      "metadata": {
        "id": "OArxm0taRihO"
      },
      "source": [
        "3: Viết chương trình thực hiện các yêu cầu sau:\n",
        "- Bước 1: Sinh ngẫu nhiên 1 danh sách n số nguyên trong đoạn [a, b], với các thông số n, a\n",
        "và b được nhập vào từ bàn phím;\n",
        "- Bước 2: Nhập vào 1 số x từ bàn phím có giá trị trong đoạn [a, b];\n",
        "- Bước 3: Sắp xếp danh sách trên theo chiều tăng dần\n",
        "- Bước 4: Tìm kiếm x có xuất hiện trong danh sách trên hay không theo yêu cầu sau:\n",
        "o Nếu có thì trả về vị trí xuất hiện đầu tiên trong danh sách và thông báo số bước lặp\n",
        "đã thực hiện để tìm được phần tử này.\n",
        "o Ngược lại, thông báo không tìm"
      ]
    },
    {
      "cell_type": "code",
      "metadata": {
        "colab": {
          "base_uri": "https://localhost:8080/"
        },
        "id": "wG_9DueuRcVn",
        "outputId": "2b517612-6c36-49e4-88fe-cea56290eb42"
      },
      "source": [
        " def sap_xep_tang_dan(x):\n",
        "  len_x = len(x)\n",
        "  for i in range(len_x):\n",
        "    for j in range(i, len_x):\n",
        "      if (x[i] > x[j]):\n",
        "        convert = x[i]\n",
        "        x[i] = x[j]\n",
        "        x[j] = convert\n",
        "  return x\n",
        "\n",
        " list3 = []\n",
        "n3 = int(input(\"Số phần tử của danh sách: \"))\n",
        "a3 = int(input(\"Giá trị min_value: \"))\n",
        "b3 = int(input(\"Giá trị max_value: \"))\n",
        "x3 = int(input(\"Số x: \"))\n",
        "pos3 = 0\n",
        "for i in range(n3):\n",
        "  list3.append(random.randint(a3, b3))\n",
        "sap_xep_tang_dan(list3)\n",
        "print(list3)\n",
        "for i in list3:\n",
        "  pos3 += 1\n",
        "  if x3 == i:\n",
        "    print(\"Số\", x3, \"xuất hiện lần đầu tiên ở vị trí\", pos3)\n",
        "    print(\"Số bước lặp:\", pos3)\n",
        "    break\n",
        "else:\n",
        "  print(\"Không tìm thấy\")"
      ],
      "execution_count": 7,
      "outputs": [
        {
          "output_type": "stream",
          "name": "stdout",
          "text": [
            "Số phần tử của danh sách: 20\n",
            "Giá trị min_value: -10\n",
            "Giá trị max_value: 10\n",
            "Số x: 3\n",
            "[-9, -7, -6, -5, -5, -5, -4, -1, 0, 1, 1, 2, 3, 3, 5, 5, 5, 8, 8, 10]\n",
            "Số 3 xuất hiện lần đầu tiên ở vị trí 13\n",
            "Số bước lặp: 13\n"
          ]
        }
      ]
    },
    {
      "cell_type": "markdown",
      "metadata": {
        "id": "vzKc7aUhbPc2"
      },
      "source": [
        "4: Viết chương trình thực hiện các yêu cầu sau:\n",
        "- Bước 1: Sinh ngẫu nhiên 1 danh sách n số nguyên trong đoạn [a, b], với các thông số n, a\n",
        "và b được nhập vào từ bàn phím;\n",
        "- Bước 2: Nhập vào 1 số x từ bàn phím có giá trị trong đoạn [a, b];\n",
        "\n",
        "- Bước 3: Sắp xếp danh sách trên theo chiều tăng dần\n",
        "- Bước 4: Tìm kiếm x có xuất hiện trong danh sách trên hay không theo yêu cầu sau:\n",
        "o Nếu có thì trả về tất cả các vị trí xuất hiện trong danh sách và thông báo số bước\n",
        "lặp đã thực hiện để tìm được các phần tử này.\n",
        "o Ngược lại, thông báo không tìm"
      ]
    },
    {
      "cell_type": "code",
      "metadata": {
        "colab": {
          "base_uri": "https://localhost:8080/"
        },
        "id": "4Tfa_D22bOXB",
        "outputId": "e3292d25-47b9-4477-d76b-9a056592e512"
      },
      "source": [
        "import random\n",
        "list4 = []\n",
        "n4 = int(input(\"Số phần tử của danh sách: \"))\n",
        "a4 = int(input(\"Giá trị min_value: \"))\n",
        "b4 = int(input(\"Giá trị max_value: \"))\n",
        "x4 = int(input(\"Số x: \"))\n",
        "pos4 = 0\n",
        "find4 = 0\n",
        "for i in range(n4):\n",
        "  list4.append(random.randint(a4, b4))\n",
        "\n",
        "\n",
        "sap_xep_tang_dan(list4)\n",
        "print(list4)\n",
        "for i in list4:\n",
        "  pos4 += 1\n",
        "  if x4 == i:\n",
        "    print(\"Số\", x4, \"xuất hiện ở vị trí\", pos4)\n",
        "    print(\"Số bước lặp:\", pos4)\n",
        "    find4 += 1\n",
        "if find4 == 0:\n",
        "  print(\"Không tìm thấy\")"
      ],
      "execution_count": 9,
      "outputs": [
        {
          "output_type": "stream",
          "name": "stdout",
          "text": [
            "Số phần tử của danh sách: 100\n",
            "Giá trị min_value: -3\n",
            "Giá trị max_value: 7\n",
            "Số x: 3\n",
            "[-3, -3, -3, -3, -3, -3, -3, -3, -3, -3, -3, -2, -2, -2, -2, -2, -2, -2, -2, -2, -2, -2, -2, -1, -1, -1, -1, -1, 0, 0, 0, 0, 0, 0, 0, 0, 1, 1, 1, 1, 1, 1, 2, 2, 2, 2, 2, 2, 2, 2, 2, 2, 2, 2, 2, 3, 3, 3, 3, 3, 3, 3, 4, 4, 4, 4, 4, 4, 4, 5, 5, 5, 5, 5, 5, 5, 5, 5, 5, 5, 6, 6, 6, 6, 6, 6, 6, 6, 6, 6, 7, 7, 7, 7, 7, 7, 7, 7, 7, 7]\n",
            "Số 3 xuất hiện ở vị trí 56\n",
            "Số bước lặp: 56\n",
            "Số 3 xuất hiện ở vị trí 57\n",
            "Số bước lặp: 57\n",
            "Số 3 xuất hiện ở vị trí 58\n",
            "Số bước lặp: 58\n",
            "Số 3 xuất hiện ở vị trí 59\n",
            "Số bước lặp: 59\n",
            "Số 3 xuất hiện ở vị trí 60\n",
            "Số bước lặp: 60\n",
            "Số 3 xuất hiện ở vị trí 61\n",
            "Số bước lặp: 61\n",
            "Số 3 xuất hiện ở vị trí 62\n",
            "Số bước lặp: 62\n"
          ]
        }
      ]
    }
  ]
}