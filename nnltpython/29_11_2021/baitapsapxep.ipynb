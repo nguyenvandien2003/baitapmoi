{
  "nbformat": 4,
  "nbformat_minor": 0,
  "metadata": {
    "colab": {
      "name": "baitapsapxep.ipynb",
      "provenance": [],
      "authorship_tag": "ABX9TyOXpAMOK72+wWTjjgLX+eOQ",
      "include_colab_link": true
    },
    "kernelspec": {
      "name": "python3",
      "display_name": "Python 3"
    },
    "language_info": {
      "name": "python"
    }
  },
  "cells": [
    {
      "cell_type": "markdown",
      "metadata": {
        "id": "view-in-github",
        "colab_type": "text"
      },
      "source": [
        "<a href=\"https://colab.research.google.com/github/nguyenvandien2003/baitapmoi/blob/main/nnltpython/29_11_2021/baitapsapxep.ipynb\" target=\"_parent\"><img src=\"https://colab.research.google.com/assets/colab-badge.svg\" alt=\"Open In Colab\"/></a>"
      ]
    },
    {
      "cell_type": "markdown",
      "metadata": {
        "id": "J_1V9sn_0vVn"
      },
      "source": [
        "1: Viết chương trình nhập vào từ bàn phím một danh sách gồm 10 số nguyên và thực hiện các\n",
        "yêu cầu sau:\n",
        "- Sắp xếp danh sách trên theo chiều tăng dần\n",
        "- In kết quả ra màn hình"
      ]
    },
    {
      "cell_type": "code",
      "metadata": {
        "colab": {
          "base_uri": "https://localhost:8080/",
          "height": 261
        },
        "id": "Sr-dwH2q0ZzW",
        "outputId": "35e5f6af-da91-4a49-a31f-652a34635108"
      },
      "source": [
        "danh_sach = []\n",
        "for i in range (10):\n",
        "  n = int(input('số nguyên: '))\n",
        "  danh_sach.append(n)\n",
        "print(\"danh sách chưa sắp xếp: \" , n)\n",
        "for i in range(10):\n",
        "  for j in range(i, 10):\n",
        "    if danh_sach[i] > danh_sach[j]:\n",
        "      convert = danh_sach[i]\n",
        "      danh_sach[i] = danh_sach[j]\n",
        "      danh_sach[j] = convert\n",
        "\n",
        "print(\"danh sách đã sắp xếp tăng dần :\\n\", danh_sach)\n",
        "__name__   "
      ],
      "execution_count": 7,
      "outputs": [
        {
          "output_type": "stream",
          "name": "stdout",
          "text": [
            "số nguyên: 5\n",
            "số nguyên: 6\n",
            "số nguyên: -5\n",
            "số nguyên: -63\n",
            "số nguyên: 32\n",
            "số nguyên: -123\n",
            "số nguyên: 321\n",
            "số nguyên: 0\n",
            "số nguyên: 22\n",
            "số nguyên: 4\n",
            "danh sách chưa sắp xếp:  4\n",
            "danh sách đã sắp xếp tăng dần :\n",
            " [-123, -63, -5, 0, 4, 5, 6, 22, 32, 321]\n"
          ]
        },
        {
          "output_type": "execute_result",
          "data": {
            "application/vnd.google.colaboratory.intrinsic+json": {
              "type": "string"
            },
            "text/plain": [
              "'__main__'"
            ]
          },
          "metadata": {},
          "execution_count": 7
        }
      ]
    },
    {
      "cell_type": "markdown",
      "metadata": {
        "id": "mOeTHken40Au"
      },
      "source": [
        "Bài 2: Viết chương trình thực hiện các yêu cầu sau:\n",
        "- Xây dựng hàm có tên nhap_danh_sach_so_nguyen(n), trong đó:\n",
        "o Tham số đầu vào n là số phần tử của danh sách;\n",
        "o Hàm này trả về một danh sách gồm n số nguyên được nhập vào từ bàn phím\n",
        "- Xây dựng hàm có tên sap_xep_danh_sach(x), trong đó:\n",
        "o Tham số đầu vào x là một danh sách các số nguyên\n",
        "o Hàm này trả về một danh sách các số nguyên được sắp xếp theo chiều tăng dần\n",
        "- Chương trình chính (__main__) gọi thực thi 2 hàm nêu trên và in kết quả sắp xếp ra màn\n",
        "hình."
      ]
    },
    {
      "cell_type": "code",
      "metadata": {
        "colab": {
          "base_uri": "https://localhost:8080/"
        },
        "id": "hjNnrxyP4zNo",
        "outputId": "efeea653-c328-4f32-9f94-b13e8b19eff8"
      },
      "source": [
        "def nhap_danh_sach_so_nguyen(n):\n",
        "  ketqua = []\n",
        "  for i in range(n):\n",
        "    ketqua.append(int(input(\"Nhập số nguyên: \")))\n",
        "  return ketqua\n",
        "\n",
        "def sap_xep_danh_sach(x):\n",
        "  len_x = len(x)\n",
        "  for i in range(len_x):\n",
        "    for j in range(i, len_x):\n",
        "      if x[i] > x[j]:\n",
        "        convert = x[i]\n",
        "        x[i] = x[j]\n",
        "        x[j] = convert\n",
        "  return x\n",
        "def main():\n",
        "  n2 = int(input(\"Số phần từ của danh sách: \"))\n",
        "  print(sap_xep_danh_sach(nhap_danh_sach_so_nguyen(n2)))\n",
        "\n",
        "if __name__ == '__main__':\n",
        "  main()\n",
        "  "
      ],
      "execution_count": 28,
      "outputs": [
        {
          "output_type": "stream",
          "name": "stdout",
          "text": [
            "Số phần từ của danh sách: 5\n",
            "Nhập số nguyên: -2\n",
            "Nhập số nguyên: 23\n",
            "Nhập số nguyên: -50\n",
            "Nhập số nguyên: 1\n",
            "Nhập số nguyên: -3\n",
            "[-50, -3, -2, 1, 23]\n"
          ]
        }
      ]
    },
    {
      "cell_type": "markdown",
      "metadata": {
        "id": "ld4_mNIJ70L-"
      },
      "source": [
        "3: Viết chương trình nhập vào từ bàn phím một danh sách các số thực, theo các yeu cầu sau:\n",
        "- Sau khi nhập mỗi số thực từ bàn phím, chương trình hỏi người dùng có muốn tiếp tục nhập\n",
        "không. Nếu người dùng gõ ký tự n hoặc N thì kết thúc quá trình nhập;\n",
        "- Sắp xếp danh sách các số thực tren theo chiều giảm dần;\n",
        "- In kết quả ra màn hình."
      ]
    },
    {
      "cell_type": "code",
      "metadata": {
        "colab": {
          "base_uri": "https://localhost:8080/"
        },
        "id": "CsUyAmfx7vM_",
        "outputId": "32fa6873-47a5-41ac-bebc-29e1ac4c5b97"
      },
      "source": [
        "def main():\n",
        "  a = []\n",
        "  list1 = \"\"\n",
        "  while True:\n",
        "    a.append(float(input(\"Nhập số thực: \")))\n",
        "    list1 = input(\"Có muốn tiếp tục nhập không? Nếu không, nhập n hoặc N: \")\n",
        "    if list1 in \"nN\":\n",
        "      break\n",
        "  for i in range(len(a)):\n",
        "    for j in range(i, len(a)):\n",
        "      if a[i] < a[j]:\n",
        "        convert = a[i]\n",
        "        a[i] = a[j]\n",
        "        a[j] = convert\n",
        "  print(a)\n",
        "\n",
        "if __name__ == '__main__':\n",
        "  main()"
      ],
      "execution_count": 30,
      "outputs": [
        {
          "output_type": "stream",
          "name": "stdout",
          "text": [
            "Nhập số thực: 23.5\n",
            "Có muốn tiếp tục nhập không? Nếu không, nhập n hoặc N: tiep\n",
            "Nhập số thực: -65.5\n",
            "Có muốn tiếp tục nhập không? Nếu không, nhập n hoặc N: tiep\n",
            "Nhập số thực: 325\n",
            "Có muốn tiếp tục nhập không? Nếu không, nhập n hoặc N: tiep\n",
            "Nhập số thực: -33\n",
            "Có muốn tiếp tục nhập không? Nếu không, nhập n hoặc N: N\n",
            "[325.0, 23.5, -33.0, -65.5]\n"
          ]
        }
      ]
    },
    {
      "cell_type": "markdown",
      "metadata": {
        "id": "vrxeiY2p-Tf9"
      },
      "source": [
        "4: Viết chương trình thực hiện các yêu cầu sau:\n",
        "- Xây dựng hàm nhap_danh_sach_so_thuc( ) thỏa mãn các yêu cầu sau:\n",
        "o Sau khi nhập mỗi số thực từ bàn phím, chương trình hỏi người dùng có muốn tiếp\n",
        "tục nhập không. Nếu người dùng gõ ký tự n hoặc N thì kết thúc quá trình nhập;\n",
        "o Hàm trả về danh sách các số thực đã nhập.\n",
        "- Xây dựng hàm sap_xep_danh_sach_so_thuc(x), với:\n",
        "o Tham số đầu vào x là một danh sách các số thực;\n",
        "o Hàm này trả về một danh sách các số thực được sắp xếp theo chiều giảm"
      ]
    },
    {
      "cell_type": "code",
      "metadata": {
        "colab": {
          "base_uri": "https://localhost:8080/"
        },
        "id": "QbRZkMvq-gvP",
        "outputId": "5c32ca17-82ce-4550-d258-f81890dcc0a4"
      },
      "source": [
        "def nhap_danh_sach_so_thuc():\n",
        "  list1 = []\n",
        "  check1 = \"\"\n",
        "  while True:\n",
        "    list1.append(float(input(\"Nhập số thực: \")))\n",
        "    check1 = input(\"Có muốn tiếp tục nhập không? Nếu không, nhập n hoặc N: \")\n",
        "    if check1 in \"nN\":\n",
        "      break\n",
        "  return list1\n",
        "\n",
        "def sap_xep_danh_sach_so_thuc(x):\n",
        "  len_x = len(x)\n",
        "  for i in range(len_x):\n",
        "    for j in range(i, len_x):\n",
        "      if x[i] < x[j]:\n",
        "        convert2 = x[i]\n",
        "        x[i] = x[j]\n",
        "        x[j] = convert2\n",
        "  return x\n",
        "\n",
        "sap_xep_danh_sach_so_thuc(nhap_danh_sach_so_thuc())"
      ],
      "execution_count": null,
      "outputs": [
        {
          "name": "stdout",
          "output_type": "stream",
          "text": [
            "Nhập số thực: 4\n",
            "Có muốn tiếp tục nhập không? Nếu không, nhập n hoặc N: tieptuc\n",
            "Nhập số thực: 34\n",
            "Có muốn tiếp tục nhập không? Nếu không, nhập n hoặc N: tieptuc\n",
            "Nhập số thực: 45\n",
            "Có muốn tiếp tục nhập không? Nếu không, nhập n hoặc N: tieptuc\n",
            "Nhập số thực: 123\n",
            "Có muốn tiếp tục nhập không? Nếu không, nhập n hoặc N: n\n"
          ]
        },
        {
          "output_type": "execute_result",
          "data": {
            "text/plain": [
              "[123.0, 45.0, 34.0, 4.0]"
            ]
          },
          "metadata": {},
          "execution_count": 40
        }
      ]
    },
    {
      "cell_type": "markdown",
      "metadata": {
        "id": "x3i05KfHBMa2"
      },
      "source": [
        "5: Viết chương trình thực hiện các yêu cầu sau:\n",
        "- Sinh ngẫu nhiên 1 danh sách số nguyên gồm n phần tử. Trong đó, n được nhập vào từ bàn\n",
        "phím và số nguyên sinh ra nằm trong khoảng từ 0 đến max_value. Giá trị max_value được\n",
        "nhập vào từ bàn phím;\n",
        "- Hỏi người dùng lựa chọn sắp xếp danh sách trên theo chiều tăng dần hay giảm dần và sắp\n",
        "xếp danh sách theo lựa chọn của người dùng;\n",
        "- In kết quả sắp xếp ra màn hình."
      ]
    },
    {
      "cell_type": "code",
      "metadata": {
        "colab": {
          "base_uri": "https://localhost:8080/"
        },
        "id": "6c_7l0YTBKzI",
        "outputId": "21f256c8-5dee-430d-b119-20af984cad8e"
      },
      "source": [
        "import random\n",
        "n5 = int(input(\"Số phần từ của danh sách: \"))\n",
        "\n",
        "list1 = []\n",
        "check5 = 0\n",
        "max_value = int(input(\"Giá trị max_value: \"))\n",
        "for i in range(n5):\n",
        "  list1.append(random.randint(0, max_value))\n",
        "while True:\n",
        "  check5 = int(input(\"Lựa chọn sắp xếp danh sách trên theo chiều tăng dần(1) hay giảm dần(2). Chọn 1 hoặc 2: \"))\n",
        "  if check5 == 1:\n",
        "    print(sap_xep_danh_sach(list1))\n",
        "    break\n",
        "  elif check5 == 2:\n",
        "    print(sap_xep_danh_sach_so_thuc(list1))\n",
        "    "
      ],
      "execution_count": null,
      "outputs": [
        {
          "output_type": "stream",
          "name": "stdout",
          "text": [
            "Số phần từ của danh sách: 10\n",
            "Giá trị max_value: 99\n",
            "Lựa chọn sắp xếp danh sách trên theo chiều tăng dần(1) hay giảm dần(2). Chọn 1 hoặc 2: 2\n",
            "[90, 81, 78, 75, 73, 69, 66, 55, 28, 5]\n",
            "Lựa chọn sắp xếp danh sách trên theo chiều tăng dần(1) hay giảm dần(2). Chọn 1 hoặc 2: 1\n",
            "[5, 28, 55, 66, 69, 73, 75, 78, 81, 90]\n"
          ]
        }
      ]
    },
    {
      "cell_type": "markdown",
      "metadata": {
        "id": "SqPTx5O1aTDu"
      },
      "source": [
        "Bài 6: Viết chương trình thực hiện các yêu cầu sau:\n",
        "- Xây dựng hàm sinh_ngau_nhien_danh_sach_so_nguyen( ), thực hiện các thao tác sau:\n",
        "o Sinh ngẫu nhiên 1 danh sách số nguyên gồm n phần tử;\n",
        "o Trong đó, n được nhập vào từ bàn phím và số nguyên sinh ra nằm trong khoảng từ\n",
        "0 đến max_value;\n",
        "o Giá trị max_value được nhập vào từ bàn phím;\n",
        "o Hàm này trả về danh sách các số nguyên được sinh ngẫu nhiên ở trên.\n",
        "- Xây dựng hàm sap_xep_giam_dan(x), trong đó:\n",
        "o Tham số đầu vào x là một danh sách các số nguyên;\n",
        "o Hàm này trả về một danh sách các số nguyên được sắp xếp theo chiều giảm dần.\n",
        "- Xây dựng hàm sap_xep_tang_dan(x), trong đó:\n",
        "o Tham số đầu vào x là một danh sách các số nguyên;\n",
        "o Hàm này trả về một danh sách các số nguyên được sắp xếp theo chiều tăng dần.\n",
        "- Chương trình chính (__main__) gọi thực hiện các hàm trên và in kết quả ra màn hình."
      ]
    },
    {
      "cell_type": "code",
      "metadata": {
        "colab": {
          "base_uri": "https://localhost:8080/"
        },
        "id": "IlZxhhyMZ6C_",
        "outputId": "d4fa9232-f5ea-4aee-c8a8-523ef5b2d817"
      },
      "source": [
        "def sinh_ngau_nhien_danh_sach_so_nguyen(n, max_value):\n",
        "  list1 = []\n",
        "  for i in range(n):\n",
        "    list1.append(random.randint(0, max_value))\n",
        "  return list1\n",
        "\n",
        "def sap_xep_giam_dan(x):\n",
        "  sap_xep_danh_sach_so_thuc(x)\n",
        "  return x\n",
        "\n",
        "def sap_xep_tang_dan(x):\n",
        "  sap_xep_danh_sach(x)\n",
        "  return x\n",
        "\n",
        "n6 = int(input(\"Số phần từ của danh sách: \"))\n",
        "max_value6 = int(input(\"Giá trị max_value: \"))\n",
        "print(sap_xep_giam_dan(sinh_ngau_nhien_danh_sach_so_nguyen(n6, max_value6)))\n",
        "sap_xep_tang_dan(sinh_ngau_nhien_danh_sach_so_nguyen(n6, max_value6))"
      ],
      "execution_count": null,
      "outputs": [
        {
          "output_type": "stream",
          "name": "stdout",
          "text": [
            "Số phần từ của danh sách: 10\n",
            "Giá trị max_value: 100\n",
            "[98, 92, 74, 54, 45, 42, 26, 21, 17, 9]\n"
          ]
        },
        {
          "output_type": "execute_result",
          "data": {
            "text/plain": [
              "[3, 13, 15, 26, 29, 43, 46, 49, 68, 80]"
            ]
          },
          "metadata": {},
          "execution_count": 47
        }
      ]
    }
  ]
}