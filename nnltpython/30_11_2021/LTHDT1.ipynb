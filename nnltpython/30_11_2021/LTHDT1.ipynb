{
  "nbformat": 4,
  "nbformat_minor": 0,
  "metadata": {
    "colab": {
      "name": "LTHDT1.ipynb",
      "provenance": [],
      "collapsed_sections": [],
      "authorship_tag": "ABX9TyNAd62Fjj9vdOIir/nXtlLi",
      "include_colab_link": true
    },
    "kernelspec": {
      "name": "python3",
      "display_name": "Python 3"
    },
    "language_info": {
      "name": "python"
    }
  },
  "cells": [
    {
      "cell_type": "markdown",
      "metadata": {
        "id": "view-in-github",
        "colab_type": "text"
      },
      "source": [
        "<a href=\"https://colab.research.google.com/github/nguyenvandien2003/baitapmoi/blob/main/nnltpython/30_11_2021/LTHDT1.ipynb\" target=\"_parent\"><img src=\"https://colab.research.google.com/assets/colab-badge.svg\" alt=\"Open In Colab\"/></a>"
      ]
    },
    {
      "cell_type": "code",
      "metadata": {
        "colab": {
          "base_uri": "https://localhost:8080/",
          "height": 70
        },
        "id": "aduX8g0clza_",
        "outputId": "ff4a2c31-61f1-4f96-f21d-e721c2e01530"
      },
      "source": [
        "class XeMay:\n",
        "  phankhoi: int\n",
        "  tenxe: str\n",
        "  xuatxu: str\n",
        "\n",
        "  #constructor\n",
        "  def __init__(self, phankhoi, tenxe, xuatxu):\n",
        "    self.phankhoi = phankhoi\n",
        "    self.tenxe = tenxe\n",
        "    self.xuatxu = xuatxu\n",
        "\n",
        "  #method\n",
        "  def outputXeMay(self):\n",
        "    return str(self.phankhoi)+' '+self.tenxe+' '+self.xuatxu\n",
        "\n",
        "a = XeMay(150, 'Jupiter', 'Japan')\n",
        "print(a.outputXeMay())\n",
        "b = XeMay(150, 'Jupiter', 'Japan')\n",
        "print(b.outputXeMay())\n",
        "c = XeMay(150, 'Jupiter', 'Japan')\n",
        "c.outputXeMay()"
      ],
      "execution_count": 9,
      "outputs": [
        {
          "output_type": "stream",
          "name": "stdout",
          "text": [
            "150 Jupiter Japan\n",
            "150 Jupiter Japan\n"
          ]
        },
        {
          "output_type": "execute_result",
          "data": {
            "application/vnd.google.colaboratory.intrinsic+json": {
              "type": "string"
            },
            "text/plain": [
              "'150 Jupiter Japan'"
            ]
          },
          "metadata": {},
          "execution_count": 9
        }
      ]
    }
  ]
}