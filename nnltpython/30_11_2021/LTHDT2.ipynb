{
  "nbformat": 4,
  "nbformat_minor": 0,
  "metadata": {
    "colab": {
      "name": "LTHDT2.ipynb",
      "provenance": [],
      "collapsed_sections": [],
      "authorship_tag": "ABX9TyM2t0vt/6QgHkOMJl1Vjfzg",
      "include_colab_link": true
    },
    "kernelspec": {
      "name": "python3",
      "display_name": "Python 3"
    },
    "language_info": {
      "name": "python"
    }
  },
  "cells": [
    {
      "cell_type": "markdown",
      "metadata": {
        "id": "view-in-github",
        "colab_type": "text"
      },
      "source": [
        "<a href=\"https://colab.research.google.com/github/nguyenvandien2003/baitapmoi/blob/main/nnltpython/30_11_2021/LTHDT2.ipynb\" target=\"_parent\"><img src=\"https://colab.research.google.com/assets/colab-badge.svg\" alt=\"Open In Colab\"/></a>"
      ]
    },
    {
      "cell_type": "code",
      "metadata": {
        "id": "5ToeeRUm5MBe"
      },
      "source": [
        "class Person:\n",
        "  name:str\n",
        "  gender:str\n",
        "  phone:str\n",
        "\n",
        "  def __init__(self,hoten,gioitinh,sdt) -> None:\n",
        "    self.hoten = hoten\n",
        "    self.gioitinh = gioitinh\n",
        "    self.sdt = sdt\n",
        "\n",
        "  def outputPerson(self) -> str:\n",
        "    result = \"name: \"  + (self.hoten) + \", gender:\" + self.gioitinh + \", phone:\" + (self.sdt)\n",
        "    return result\n",
        "\n",
        "\n",
        "class Student(Person):\n",
        "  studerID:str\n",
        "  class1:str\n",
        "\n",
        "  def __init__(self,hoten,gioitinh,sdt,studerID,class1) -> None:\n",
        "    Person. __init__(self,hoten,gioitinh,sdt)\n",
        "    self.studerID = studerID\n",
        "    self.class1 = class1\n",
        "\n",
        "  def outputStuder(self) ->str:\n",
        "    result = self.outputPerson () + \", studerID:\" + str(self.studerID) + \", class1:\" + (self.class1)\n",
        "    return result\n",
        "\n",
        "\n",
        "class Lecturer(Person):\n",
        "  lecturerID:str\n",
        "  yersofExperince:str\n",
        "\n",
        "  def __init__(self,hoten,gioitinh,sdt,leturerid,yersofExperince):\n",
        "    Person.__init__(self,hoten,gioitinh,sdt)\n",
        "    self.lecturid = leturerid\n",
        "    self.yersofExperince = yersofExperince\n",
        "\n",
        "  def outputLectur(self) -> str:\n",
        "    result = self.outputPerson () + \"lecturerID\" + str(self.lecturerID) +\"\\tyersofExperince:\" + (self.yersofExperince)\n",
        "    return result"
      ],
      "execution_count": 2,
      "outputs": []
    },
    {
      "cell_type": "code",
      "metadata": {
        "colab": {
          "base_uri": "https://localhost:8080/"
        },
        "id": "6evYq_ggMf5Q",
        "outputId": "a7b849fb-6b36-43c5-9ea6-a47b99903609"
      },
      "source": [
        "student = Student('Nguyen Van Dien', 'Nam', '848484848', '20E000000', 'KHDL&TTNT K2')\n",
        "print(student.outputStuder())"
      ],
      "execution_count": 3,
      "outputs": [
        {
          "output_type": "stream",
          "name": "stdout",
          "text": [
            "name: Nguyen Van Dien, gender:Nam, phone:848484848, studerID:20E000000, class1:KHDL&TTNT K2\n"
          ]
        }
      ]
    }
  ]
}