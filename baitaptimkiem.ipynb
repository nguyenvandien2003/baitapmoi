{
  "nbformat": 4,
  "nbformat_minor": 0,
  "metadata": {
    "colab": {
      "name": "baitaptimkiem.ipynb",
      "provenance": [],
      "authorship_tag": "ABX9TyPcbpNo42v4rKrabBOZ18KX",
      "include_colab_link": true
    },
    "kernelspec": {
      "name": "python3",
      "display_name": "Python 3"
    },
    "language_info": {
      "name": "python"
    }
  },
  "cells": [
    {
      "cell_type": "markdown",
      "metadata": {
        "id": "view-in-github",
        "colab_type": "text"
      },
      "source": [
        "<a href=\"https://colab.research.google.com/github/nguyenvandien2003/baitapmoi/blob/main/baitaptimkiem.ipynb\" target=\"_parent\"><img src=\"https://colab.research.google.com/assets/colab-badge.svg\" alt=\"Open In Colab\"/></a>"
      ]
    },
    {
      "cell_type": "markdown",
      "metadata": {
        "id": "pvI_cLXsIwCH"
      },
      "source": [
        "Bài 1: Viết chương trình thực hiện các yêu cầu sau:\n",
        "- Sinh ngẫu nhiên 1 danh sách n số nguyên trong đoạn [a, b], với các thông số n, a và b được\n",
        "nhập vào từ bàn phím;\n",
        "- Nhập vào 1 số x từ bàn phím có giá trị trong đoạn [a, b];\n",
        "- Tìm kiếm x có xuất hiện trong danh sách trên hay không. Nếu có thì trả về vị trí xuất hiện\n",
        "đầu tiên trong danh sách. Ngược lại, thông báo không tìm thấy."
      ]
    },
    {
      "cell_type": "code",
      "metadata": {
        "colab": {
          "base_uri": "https://localhost:8080/"
        },
        "id": "SpWnqMPUIoiD",
        "outputId": "2f1b2114-0149-4966-b9db-cef74eb0c479"
      },
      "source": [
        "import random\n",
        "list1 = []\n",
        "n1 = int(input(\"Số phần tử của danh sách: \"))\n",
        "a1 = int(input(\"Giá trị min_value: \"))\n",
        "b1 = int(input(\"Giá trị max_value: \"))\n",
        "x1 = int(input(\"Số x: \"))\n",
        "vitri1 = 0\n",
        "for i in range(n1):\n",
        "  list1.append(random.randint(a1, b1))\n",
        "print(list1)\n",
        "for i in list1:\n",
        "  vitri1 += 1\n",
        "  if x1 == i:\n",
        "    print(\"Số\", x1, \"xuất hiện lần đầu tiên ở vị trí\", vitri1)\n",
        "    break\n",
        "else:\n",
        "  print(\"Không tìm thấy\")"
      ],
      "execution_count": 3,
      "outputs": [
        {
          "output_type": "stream",
          "name": "stdout",
          "text": [
            "Số phần tử của danh sách: 8\n",
            "Giá trị min_value: 22\n",
            "Giá trị max_value: 88\n",
            "Số x: 2\n",
            "[45, 74, 77, 69, 73, 84, 78, 85]\n",
            "Không tìm thấy\n"
          ]
        }
      ]
    },
    {
      "cell_type": "markdown",
      "metadata": {
        "id": "yUbaOemnPzXX"
      },
      "source": [
        "2: Viết chương trình thực hiện các yêu cầu sau:\n",
        "- Sinh ngẫu nhiên 1 danh sách n số nguyên trong đoạn [a, b], với các thông số n, a và b được\n",
        "nhập vào từ bàn phím;\n",
        "- Nhập vào 1 số x từ bàn phím có giá trị trong đoạn [a, b];\n",
        "- Tìm kiếm x có xuất hiện trong danh sách trên hay không theo yêu cầu sau:\n",
        "o Nếu có thì trả về vị trí xuất hiện đầu tiên trong danh sách và thông báo số bước lặp\n",
        "đã thực hiện để tìm được phần tử này.\n",
        "o Ngược lại, thông báo không tìm thấy."
      ]
    },
    {
      "cell_type": "code",
      "metadata": {
        "colab": {
          "base_uri": "https://localhost:8080/"
        },
        "id": "K8oIO5xGPwSA",
        "outputId": "710365fc-8f87-4a5d-ce39-9e83281722bb"
      },
      "source": [
        "list2 = []\n",
        "n2 = int(input(\"Số phần tử của danh sách: \"))\n",
        "a2 = int(input(\"Giá trị min_value: \"))\n",
        "b2 = int(input(\"Giá trị max_value: \"))\n",
        "x2 = int(input(\"Số x: \"))\n",
        "vitri2 = 0\n",
        "for i in range(n2):\n",
        "  list2.append(random.randint(a2, b2))\n",
        "print(list2)\n",
        "for i in list2:\n",
        "  vitri2 += 1\n",
        "  if x2 == i:\n",
        "    print(\"Số\", x2, \"xuất hiện lần đầu tiên ở vị trí\", vitri2)\n",
        "    print(\"Số bước lặp:\", vitri2)\n",
        "    break\n",
        "else:\n",
        "  print(\"Không tìm thấy\")"
      ],
      "execution_count": 6,
      "outputs": [
        {
          "output_type": "stream",
          "name": "stdout",
          "text": [
            "Số phần tử của danh sách: 10\n",
            "Giá trị min_value: 1\n",
            "Giá trị max_value: 20\n",
            "Số x: 3\n",
            "[17, 2, 18, 2, 3, 12, 12, 17, 2, 19]\n",
            "Số 3 xuất hiện lần đầu tiên ở vị trí 5\n",
            "Số bước lặp: 5\n"
          ]
        }
      ]
    },
    {
      "cell_type": "markdown",
      "metadata": {
        "id": "OArxm0taRihO"
      },
      "source": [
        "3: Viết chương trình thực hiện các yêu cầu sau:\n",
        "- Bước 1: Sinh ngẫu nhiên 1 danh sách n số nguyên trong đoạn [a, b], với các thông số n, a\n",
        "và b được nhập vào từ bàn phím;\n",
        "- Bước 2: Nhập vào 1 số x từ bàn phím có giá trị trong đoạn [a, b];\n",
        "- Bước 3: Sắp xếp danh sách trên theo chiều tăng dần\n",
        "- Bước 4: Tìm kiếm x có xuất hiện trong danh sách trên hay không theo yêu cầu sau:\n",
        "o Nếu có thì trả về vị trí xuất hiện đầu tiên trong danh sách và thông báo số bước lặp\n",
        "đã thực hiện để tìm được phần tử này.\n",
        "o Ngược lại, thông báo không tìm"
      ]
    },
    {
      "cell_type": "code",
      "metadata": {
        "colab": {
          "base_uri": "https://localhost:8080/"
        },
        "id": "wG_9DueuRcVn",
        "outputId": "a1eaf5c2-263c-4a7e-978f-c41523af4bae"
      },
      "source": [
        " def sap_xep_tang_dan(x):\n",
        "  len_x = len(x)\n",
        "  for i in range(len_x):\n",
        "    for j in range(i, len_x):\n",
        "      if (x[i] > x[j]):\n",
        "        convert = x[i]\n",
        "        x[i] = x[j]\n",
        "        x[j] = convert\n",
        "  return x\n",
        "\n",
        " list3 = []\n",
        "n3 = int(input(\"Số phần tử của danh sách: \"))\n",
        "a3 = int(input(\"Giá trị min_value: \"))\n",
        "b3 = int(input(\"Giá trị max_value: \"))\n",
        "x3 = int(input(\"Số x: \"))\n",
        "pos3 = 0\n",
        "for i in range(n3):\n",
        "  list3.append(random.randint(a3, b3))\n",
        "sap_xep_tang_dan(list3)\n",
        "print(list3)\n",
        "for i in list3:\n",
        "  pos3 += 1\n",
        "  if x3 == i:\n",
        "    print(\"Số\", x3, \"xuất hiện lần đầu tiên ở vị trí\", pos3)\n",
        "    print(\"Số bước lặp:\", pos3)\n",
        "    break\n",
        "else:\n",
        "  print(\"Không tìm thấy\")"
      ],
      "execution_count": 10,
      "outputs": [
        {
          "output_type": "stream",
          "name": "stdout",
          "text": [
            "Số phần tử của danh sách: 100\n",
            "Giá trị min_value: 1\n",
            "Giá trị max_value: 20\n",
            "Số x: 2\n",
            "[1, 1, 1, 2, 2, 3, 3, 3, 3, 3, 3, 4, 4, 5, 5, 5, 5, 6, 6, 6, 7, 7, 7, 7, 7, 7, 7, 7, 7, 8, 8, 8, 8, 8, 8, 8, 9, 9, 9, 9, 10, 10, 10, 10, 11, 11, 11, 12, 12, 12, 13, 13, 13, 13, 13, 13, 13, 13, 13, 14, 14, 14, 14, 15, 15, 15, 15, 16, 16, 16, 16, 16, 16, 16, 17, 17, 17, 17, 17, 17, 17, 18, 18, 18, 18, 18, 19, 19, 19, 19, 19, 19, 19, 19, 20, 20, 20, 20, 20, 20]\n",
            "Số 2 xuất hiện lần đầu tiên ở vị trí 4\n",
            "Số bước lặp: 4\n"
          ]
        }
      ]
    },
    {
      "cell_type": "markdown",
      "metadata": {
        "id": "vzKc7aUhbPc2"
      },
      "source": [
        "4: Viết chương trình thực hiện các yêu cầu sau:\n",
        "- Bước 1: Sinh ngẫu nhiên 1 danh sách n số nguyên trong đoạn [a, b], với các thông số n, a\n",
        "và b được nhập vào từ bàn phím;\n",
        "- Bước 2: Nhập vào 1 số x từ bàn phím có giá trị trong đoạn [a, b];\n",
        "\n",
        "- Bước 3: Sắp xếp danh sách trên theo chiều tăng dần\n",
        "- Bước 4: Tìm kiếm x có xuất hiện trong danh sách trên hay không theo yêu cầu sau:\n",
        "o Nếu có thì trả về tất cả các vị trí xuất hiện trong danh sách và thông báo số bước\n",
        "lặp đã thực hiện để tìm được các phần tử này.\n",
        "o Ngược lại, thông báo không tìm"
      ]
    },
    {
      "cell_type": "code",
      "metadata": {
        "colab": {
          "base_uri": "https://localhost:8080/"
        },
        "id": "4Tfa_D22bOXB",
        "outputId": "41d7abf0-f38a-4572-8e92-fb7868c8b22d"
      },
      "source": [
        "list4 = []\n",
        "n4 = int(input(\"Số phần tử của danh sách: \"))\n",
        "a4 = int(input(\"Giá trị min_value: \"))\n",
        "b4 = int(input(\"Giá trị max_value: \"))\n",
        "x4 = int(input(\"Số x: \"))\n",
        "pos4 = 0\n",
        "find4 = 0\n",
        "for i in range(n4):\n",
        "  list4.append(random.randint(a4, b4))\n",
        "sap_xep_tang_dan(list4)\n",
        "print(list4)\n",
        "for i in list4:\n",
        "  pos4 += 1\n",
        "  if x4 == i:\n",
        "    print(\"Số\", x4, \"xuất hiện ở vị trí\", pos4)\n",
        "    print(\"Số bước lặp:\", pos4)\n",
        "    find4 += 1\n",
        "if find4 == 0:\n",
        "  print(\"Không tìm thấy\")"
      ],
      "execution_count": 12,
      "outputs": [
        {
          "output_type": "stream",
          "name": "stdout",
          "text": [
            "Số phần tử của danh sách: 100\n",
            "Giá trị min_value: 1\n",
            "Giá trị max_value: 30\n",
            "Số x: 3\n",
            "[1, 1, 1, 1, 1, 1, 2, 2, 2, 2, 3, 4, 4, 4, 4, 5, 5, 5, 5, 5, 5, 5, 7, 7, 7, 8, 8, 8, 8, 9, 9, 9, 10, 10, 11, 11, 11, 11, 11, 11, 11, 12, 13, 13, 13, 14, 15, 15, 16, 16, 16, 16, 16, 17, 17, 17, 17, 17, 18, 18, 18, 18, 19, 19, 20, 20, 21, 22, 22, 22, 23, 23, 23, 23, 24, 24, 24, 24, 24, 24, 25, 25, 25, 26, 26, 26, 26, 26, 27, 27, 27, 28, 29, 29, 29, 30, 30, 30, 30, 30]\n",
            "Số 3 xuất hiện ở vị trí 11\n",
            "Số bước lặp: 11\n"
          ]
        }
      ]
    }
  ]
}