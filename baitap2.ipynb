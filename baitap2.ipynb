{
  "nbformat": 4,
  "nbformat_minor": 0,
  "metadata": {
    "colab": {
      "name": "baitap2.ipynb",
      "provenance": [],
      "authorship_tag": "ABX9TyM3Jw9EoS44G/bDh4M+/n/q",
      "include_colab_link": true
    },
    "kernelspec": {
      "name": "python3",
      "display_name": "Python 3"
    },
    "language_info": {
      "name": "python"
    }
  },
  "cells": [
    {
      "cell_type": "markdown",
      "metadata": {
        "id": "view-in-github",
        "colab_type": "text"
      },
      "source": [
        "<a href=\"https://colab.research.google.com/github/nguyenvandien2003/baitapmoi/blob/main/baitap2.ipynb\" target=\"_parent\"><img src=\"https://colab.research.google.com/assets/colab-badge.svg\" alt=\"Open In Colab\"/></a>"
      ]
    },
    {
      "cell_type": "markdown",
      "metadata": {
        "id": "7LocOkIWhCsk"
      },
      "source": [
        "Kiểu Tuples"
      ]
    },
    {
      "cell_type": "code",
      "metadata": {
        "colab": {
          "base_uri": "https://localhost:8080/"
        },
        "id": "vGF_EvFndQgG",
        "outputId": "fe065940-3a01-41fc-b56a-832c2b652620"
      },
      "source": [
        "tup1 = ('physics', 'chemistry', 1997, 2021)\n",
        "tup2 = (1, 2, 3, 4, 5 )\n",
        "tup3 = \"a\", \"b\",\"c\", \"d\"\n",
        "print(tup1,tup2,tup3)"
      ],
      "execution_count": 48,
      "outputs": [
        {
          "output_type": "stream",
          "name": "stdout",
          "text": [
            "('physics', 'chemistry', 1997, 2021) (1, 2, 3, 4, 5) ('a', 'b', 'c', 'd')\n"
          ]
        }
      ]
    },
    {
      "cell_type": "code",
      "metadata": {
        "colab": {
          "base_uri": "https://localhost:8080/"
        },
        "id": "CA2gh3JQd_y7",
        "outputId": "f3f49bf9-d94f-48bf-942a-2c96b8526a61"
      },
      "source": [
        "tup1 = ('physics', 'chemistry', 1997, 2021)\n",
        "tup2 = (1, 2, 3, 4, 5, 6, 7 )\n",
        "print(\"tup1[0]: \", tup1[0])\n",
        "print(\"tup2[1:5]:\", tup2[1:5])"
      ],
      "execution_count": 46,
      "outputs": [
        {
          "output_type": "stream",
          "name": "stdout",
          "text": [
            "tup1[0]:  physics\n",
            "tup2[1:5]: (2, 3, 4, 5)\n"
          ]
        }
      ]
    },
    {
      "cell_type": "code",
      "metadata": {
        "colab": {
          "base_uri": "https://localhost:8080/"
        },
        "id": "0RDFfvEQeIMK",
        "outputId": "73ce4bec-2591-4646-946e-47bb33930903"
      },
      "source": [
        "tup1 = (12, 34.56)\n",
        "tup2 =('abc', 'xyz')\n",
        "tup3 = tup1 + tup2\n",
        "print(tup3)"
      ],
      "execution_count": 3,
      "outputs": [
        {
          "output_type": "stream",
          "name": "stdout",
          "text": [
            "(12, 34.56, 'abc', 'xyz')\n"
          ]
        }
      ]
    },
    {
      "cell_type": "code",
      "metadata": {
        "colab": {
          "base_uri": "https://localhost:8080/"
        },
        "id": "4iYZLv2qeSUL",
        "outputId": "09c9efef-8881-4b60-8284-56a150b90275"
      },
      "source": [
        "tup = ('physics','chemistry',1997,2021)\n",
        "print(tup)\n",
        "print(\"After deleting tup : \")\n",
        "print(tup)"
      ],
      "execution_count": 45,
      "outputs": [
        {
          "output_type": "stream",
          "name": "stdout",
          "text": [
            "('physics', 'chemistry', 1997, 2021)\n",
            "After deleting tup : \n",
            "('physics', 'chemistry', 1997, 2021)\n"
          ]
        }
      ]
    },
    {
      "cell_type": "code",
      "metadata": {
        "colab": {
          "base_uri": "https://localhost:8080/"
        },
        "id": "bwQ0Rv4Oes0j",
        "outputId": "17878b39-10a9-48ab-8ad9-76d91bd4252d"
      },
      "source": [
        "len((1, 2, 3))\n",
        "(1, 2, 3) + (4, 5, 6)\n",
        "3 in (1, 2, 3)\n"
      ],
      "execution_count": 54,
      "outputs": [
        {
          "output_type": "execute_result",
          "data": {
            "text/plain": [
              "True"
            ]
          },
          "metadata": {},
          "execution_count": 54
        }
      ]
    },
    {
      "cell_type": "code",
      "metadata": {
        "colab": {
          "base_uri": "https://localhost:8080/"
        },
        "id": "WW8pkISffBZb",
        "outputId": "d6c2daf5-1e94-4faf-9755-9e53f9109ffc"
      },
      "source": [
        "#Tuples - Indexing & Slicing\n",
        "T = ('Red', 'Yellow', 'Green')\n",
        "print(T[2])\n",
        "print(T[-2])\n",
        "print(T[1:])"
      ],
      "execution_count": 9,
      "outputs": [
        {
          "output_type": "stream",
          "name": "stdout",
          "text": [
            "Green\n",
            "Yellow\n",
            "('Yellow', 'Green')\n"
          ]
        }
      ]
    },
    {
      "cell_type": "code",
      "metadata": {
        "colab": {
          "base_uri": "https://localhost:8080/"
        },
        "id": "BsboDaUQfrgT",
        "outputId": "6b99bb78-a33a-4cf5-8aa1-e2ac83f2652f"
      },
      "source": [
        "list3 = (3,\"a\")\n",
        "len(list3)"
      ],
      "execution_count": 10,
      "outputs": [
        {
          "output_type": "execute_result",
          "data": {
            "text/plain": [
              "2"
            ]
          },
          "metadata": {},
          "execution_count": 10
        }
      ]
    },
    {
      "cell_type": "code",
      "metadata": {
        "colab": {
          "base_uri": "https://localhost:8080/"
        },
        "id": "08m64K9SgcHj",
        "outputId": "2e5a0ac4-d8c6-4973-f322-68dfecd48bd8"
      },
      "source": [
        "list1 = (1,2,3,4,5)\n",
        "min(list1)"
      ],
      "execution_count": 12,
      "outputs": [
        {
          "output_type": "execute_result",
          "data": {
            "text/plain": [
              "1"
            ]
          },
          "metadata": {},
          "execution_count": 12
        }
      ]
    },
    {
      "cell_type": "code",
      "metadata": {
        "colab": {
          "base_uri": "https://localhost:8080/"
        },
        "id": "O1l-Oauog4Fj",
        "outputId": "05e3d44b-8c82-40a4-c4ef-0166a43e696f"
      },
      "source": [
        "max(list1)"
      ],
      "execution_count": 13,
      "outputs": [
        {
          "output_type": "execute_result",
          "data": {
            "text/plain": [
              "5"
            ]
          },
          "metadata": {},
          "execution_count": 13
        }
      ]
    },
    {
      "cell_type": "markdown",
      "metadata": {
        "id": "Upi68vsqhPtb"
      },
      "source": [
        "Kiểu Dictionary"
      ]
    },
    {
      "cell_type": "code",
      "metadata": {
        "colab": {
          "base_uri": "https://localhost:8080/"
        },
        "id": "uZSE6PJahOFb",
        "outputId": "03da3577-aaad-4f47-ef64-91862fd4b689"
      },
      "source": [
        "dict1 = {'Name': 'dien', 'Age': 18, 'Class': 'thirteen'}\n",
        "print(\"dict['Name']: \", dict1['Name'])\n",
        "print(\"dict['Age']: \", dict1['Age'])"
      ],
      "execution_count": 55,
      "outputs": [
        {
          "output_type": "stream",
          "name": "stdout",
          "text": [
            "dict['Name']:  dien\n",
            "dict['Age']:  18\n"
          ]
        }
      ]
    },
    {
      "cell_type": "code",
      "metadata": {
        "colab": {
          "base_uri": "https://localhost:8080/"
        },
        "id": "PuyYMm4-iIMT",
        "outputId": "58b5dd2b-6eb9-4f8d-c37f-920bda36c3b2"
      },
      "source": [
        "dict1 = {'Name': 'dien', 'Age': 18, 'Class': 'thirteen'}\n",
        "dict1['Age'] = 18;\n",
        "dict1['School'] = \"DPS School\";\n",
        "print(\"dict['Age']: \", dict1['Age'])\n",
        "print(\"dict['School']: \", dict1['School'])"
      ],
      "execution_count": 56,
      "outputs": [
        {
          "output_type": "stream",
          "name": "stdout",
          "text": [
            "dict['Age']:  18\n",
            "dict['School']:  DPS School\n"
          ]
        }
      ]
    },
    {
      "cell_type": "code",
      "metadata": {
        "id": "0xrpAEZDiSwD"
      },
      "source": [
        "dict1 = {'Name': 'dien', 'Age': 18, 'Class': 'thirteen'}\n",
        "del dict1['Name'] \n",
        "dict1.clear() \n",
        "del dict1"
      ],
      "execution_count": 57,
      "outputs": []
    },
    {
      "cell_type": "code",
      "metadata": {
        "colab": {
          "base_uri": "https://localhost:8080/"
        },
        "id": "_JIgS4NuigLD",
        "outputId": "2db99994-bdfb-4f04-a9f2-c38398d91652"
      },
      "source": [
        "d1 = (2,\"a\")\n",
        "len(d1)"
      ],
      "execution_count": 19,
      "outputs": [
        {
          "output_type": "execute_result",
          "data": {
            "text/plain": [
              "2"
            ]
          },
          "metadata": {},
          "execution_count": 19
        }
      ]
    },
    {
      "cell_type": "code",
      "metadata": {
        "colab": {
          "base_uri": "https://localhost:8080/",
          "height": 35
        },
        "id": "fgu8yn9Xn3fj",
        "outputId": "b5531bd2-27f0-4f4c-b9d7-59afb982411a"
      },
      "source": [
        "str(d1)"
      ],
      "execution_count": 59,
      "outputs": [
        {
          "output_type": "execute_result",
          "data": {
            "application/vnd.google.colaboratory.intrinsic+json": {
              "type": "string"
            },
            "text/plain": [
              "'(1, 2, 3, 4, 5, 6, 7)'"
            ]
          },
          "metadata": {},
          "execution_count": 59
        }
      ]
    },
    {
      "cell_type": "markdown",
      "metadata": {
        "id": "pgdFoQ2HjhwK"
      },
      "source": [
        "Kiểu Set"
      ]
    },
    {
      "cell_type": "code",
      "metadata": {
        "colab": {
          "base_uri": "https://localhost:8080/"
        },
        "id": "8IQxUHqVjgwz",
        "outputId": "1f4ac81f-500f-416e-bab8-a216c0f81220"
      },
      "source": [
        "Set = set([\"a\",\"b\", \"c\"])\n",
        "print(\"Set: \")\n",
        "print(Set)\n",
        "Set.add(\"d\")\n",
        "print(\"\\nSet after adding: \")\n",
        "print(Set)"
      ],
      "execution_count": 22,
      "outputs": [
        {
          "output_type": "stream",
          "name": "stdout",
          "text": [
            "Set: \n",
            "{'c', 'b', 'a'}\n",
            "\n",
            "Set after adding: \n",
            "{'c', 'b', 'd', 'a'}\n"
          ]
        }
      ]
    },
    {
      "cell_type": "code",
      "metadata": {
        "id": "IKeWkpESjyW8"
      },
      "source": [
        "people = {\"Jay\", \"Idrish\", \"Archi\"}\n",
        "print(\"People: \")\n",
        "print(people)\n",
        "people.add(\"Daxit\")\n",
        "for i in range(1, 6)\n",
        "print(\"nSet afteradding element:\",end = \" \")\n",
        "print(people)"
      ],
      "execution_count": null,
      "outputs": []
    },
    {
      "cell_type": "code",
      "metadata": {
        "colab": {
          "base_uri": "https://localhost:8080/"
        },
        "id": "1ETnzhfYkXWb",
        "outputId": "a8d5eab0-ecb8-40ce-8c2f-2a21fe394df6"
      },
      "source": [
        "Days=set([\"Mon\",\"Tue\",\"Wed\",\"Thu\",\"Fri\",\"Sat\"])\n",
        "Days.discard(\"Sun\")\n",
        "print(Days)"
      ],
      "execution_count": 26,
      "outputs": [
        {
          "output_type": "stream",
          "name": "stdout",
          "text": [
            "{'Sat', 'Fri', 'Mon', 'Tue', 'Thu', 'Wed'}\n"
          ]
        }
      ]
    },
    {
      "cell_type": "code",
      "metadata": {
        "colab": {
          "base_uri": "https://localhost:8080/"
        },
        "id": "WlBqWmxHkfHM",
        "outputId": "8a46b5e0-07d0-4b4c-a408-29ee29312abe"
      },
      "source": [
        "set1 = {1,2,3,4,5,6}\n",
        "print(\"Initial set\")\n",
        "print(set1)"
      ],
      "execution_count": 27,
      "outputs": [
        {
          "output_type": "stream",
          "name": "stdout",
          "text": [
            "Initial set\n",
            "{1, 2, 3, 4, 5, 6}\n"
          ]
        }
      ]
    },
    {
      "cell_type": "code",
      "metadata": {
        "id": "GeiJEJqamoe8"
      },
      "source": [
        ""
      ],
      "execution_count": null,
      "outputs": []
    },
    {
      "cell_type": "markdown",
      "metadata": {
        "id": "psHrAMKZlsP6"
      },
      "source": [
        "Kiểu Date & Time - ngày giờ"
      ]
    },
    {
      "cell_type": "code",
      "metadata": {
        "colab": {
          "base_uri": "https://localhost:8080/"
        },
        "id": "Zh7Fl2QMk_Ps",
        "outputId": "7f7eb270-4efd-4830-90ad-4819170a9b30"
      },
      "source": [
        "import time; \n",
        "ticks = time.time()\n",
        "print(\"Number of ticks since 2:30am, november 15, 2021:\", ticks)\n",
        "localtime = time.localtime(time.time())\n",
        "print(\"Local current time :\", localtime)"
      ],
      "execution_count": 38,
      "outputs": [
        {
          "output_type": "stream",
          "name": "stdout",
          "text": [
            "Number of ticks since 2:30am, november 15, 2021: 1636963025.7651646\n",
            "Local current time : time.struct_time(tm_year=2021, tm_mon=11, tm_mday=15, tm_hour=7, tm_min=57, tm_sec=5, tm_wday=0, tm_yday=319, tm_isdst=0)\n"
          ]
        }
      ]
    },
    {
      "cell_type": "code",
      "metadata": {
        "colab": {
          "base_uri": "https://localhost:8080/"
        },
        "id": "w4WVj_kolyCV",
        "outputId": "9ba842cd-88fe-4a42-f8b7-973e6422f11f"
      },
      "source": [
        "import time;\n",
        "localtime = time.asctime( time.localtime(time.time()) )\n",
        "print(\"Local current time :\", localtime)"
      ],
      "execution_count": 37,
      "outputs": [
        {
          "output_type": "stream",
          "name": "stdout",
          "text": [
            "Local current time : Mon Nov 15 07:56:54 2021\n"
          ]
        }
      ]
    },
    {
      "cell_type": "code",
      "metadata": {
        "colab": {
          "base_uri": "https://localhost:8080/"
        },
        "id": "M6YZEXzmmMs8",
        "outputId": "01070475-cefb-4898-cdaa-7d4725205816"
      },
      "source": [
        "import calendar\n",
        "cal = calendar.month(2021, 11)\n",
        "print(\"Here is the calendar:\")\n",
        "print(cal)"
      ],
      "execution_count": 40,
      "outputs": [
        {
          "output_type": "stream",
          "name": "stdout",
          "text": [
            "Here is the calendar:\n",
            "   November 2021\n",
            "Mo Tu We Th Fr Sa Su\n",
            " 1  2  3  4  5  6  7\n",
            " 8  9 10 11 12 13 14\n",
            "15 16 17 18 19 20 21\n",
            "22 23 24 25 26 27 28\n",
            "29 30\n",
            "\n"
          ]
        }
      ]
    }
  ]
}