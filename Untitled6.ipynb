{
  "nbformat": 4,
  "nbformat_minor": 0,
  "metadata": {
    "colab": {
      "name": "Untitled6.ipynb",
      "provenance": [],
      "authorship_tag": "ABX9TyMVL0dyBEVwAhaCQeQAgkg9",
      "include_colab_link": true
    },
    "kernelspec": {
      "name": "python3",
      "display_name": "Python 3"
    },
    "language_info": {
      "name": "python"
    }
  },
  "cells": [
    {
      "cell_type": "markdown",
      "metadata": {
        "id": "view-in-github",
        "colab_type": "text"
      },
      "source": [
        "<a href=\"https://colab.research.google.com/github/nguyenvandien2003/baitapmoi/blob/main/Untitled6.ipynb\" target=\"_parent\"><img src=\"https://colab.research.google.com/assets/colab-badge.svg\" alt=\"Open In Colab\"/></a>"
      ]
    },
    {
      "cell_type": "code",
      "metadata": {
        "colab": {
          "base_uri": "https://localhost:8080/"
        },
        "id": "C2pG1nalc0cD",
        "outputId": "2d8ae5a8-1cc4-4b75-f25d-701abd7a4328"
      },
      "source": [
        "x = []\n",
        "x.append(18)\n",
        "x.append(\"huế\")\n",
        "y = [12,45,-1,-0,56,\"abc\"]\n",
        "x.extend(y)\n",
        "print(x)\n",
        "print(x[0:5])\n",
        "print(x[2:])"
      ],
      "execution_count": 7,
      "outputs": [
        {
          "output_type": "stream",
          "name": "stdout",
          "text": [
            "[18, 'huế', 12, 45, -1, 0, 56, 'abc']\n",
            "[18, 'huế', 12, 45, -1]\n",
            "[12, 45, -1, 0, 56, 'abc']\n"
          ]
        }
      ]
    }
  ]
}