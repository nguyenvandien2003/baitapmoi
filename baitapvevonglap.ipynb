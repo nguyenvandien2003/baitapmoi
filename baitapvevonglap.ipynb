{
  "nbformat": 4,
  "nbformat_minor": 0,
  "metadata": {
    "colab": {
      "name": "baitapvevonglap.ipynb",
      "provenance": [],
      "collapsed_sections": [],
      "authorship_tag": "ABX9TyPVZsNggDqNT9GWLyekkLYG",
      "include_colab_link": true
    },
    "kernelspec": {
      "name": "python3",
      "display_name": "Python 3"
    },
    "language_info": {
      "name": "python"
    }
  },
  "cells": [
    {
      "cell_type": "markdown",
      "metadata": {
        "id": "view-in-github",
        "colab_type": "text"
      },
      "source": [
        "<a href=\"https://colab.research.google.com/github/nguyenvandien2003/baitapmoi/blob/main/baitapvevonglap.ipynb\" target=\"_parent\"><img src=\"https://colab.research.google.com/assets/colab-badge.svg\" alt=\"Open In Colab\"/></a>"
      ]
    },
    {
      "cell_type": "markdown",
      "metadata": {
        "id": "pUvU2KYv-gwg"
      },
      "source": [
        "1: Print First 10 natural numbers using while loop"
      ]
    },
    {
      "cell_type": "code",
      "metadata": {
        "colab": {
          "base_uri": "https://localhost:8080/"
        },
        "id": "lsYtkEmt-eSm",
        "outputId": "648944d1-e063-435f-c140-2581af153059"
      },
      "source": [
        "x = 1\n",
        "while(x <= 10):\n",
        "     print(x)\n",
        "     x += 1"
      ],
      "execution_count": 9,
      "outputs": [
        {
          "output_type": "stream",
          "name": "stdout",
          "text": [
            "1\n",
            "2\n",
            "3\n",
            "4\n",
            "5\n",
            "6\n",
            "7\n",
            "8\n",
            "9\n",
            "10\n"
          ]
        }
      ]
    },
    {
      "cell_type": "markdown",
      "metadata": {
        "id": "hRMl6-lr_1nw"
      },
      "source": [
        "2:Print the following pattern"
      ]
    },
    {
      "cell_type": "code",
      "metadata": {
        "colab": {
          "base_uri": "https://localhost:8080/"
        },
        "id": "nTSb8Do-_0fJ",
        "outputId": "53a94b4c-19c7-4c30-fce6-0113cf62d203"
      },
      "source": [
        "hàng = 5\n",
        "for a in range(0, hàng + 1):\n",
        "    for b in range(hàng - a, 0, -1):\n",
        "        print(b, end=' ')\n",
        "    print()"
      ],
      "execution_count": 16,
      "outputs": [
        {
          "output_type": "stream",
          "name": "stdout",
          "text": [
            "5 4 3 2 1 \n",
            "4 3 2 1 \n",
            "3 2 1 \n",
            "2 1 \n",
            "1 \n",
            "\n"
          ]
        }
      ]
    },
    {
      "cell_type": "markdown",
      "metadata": {
        "id": "FV9BWyb9BkhY"
      },
      "source": [
        "3: Calculate the sum of all numbers from 1 to a given number"
      ]
    },
    {
      "cell_type": "code",
      "metadata": {
        "colab": {
          "base_uri": "https://localhost:8080/"
        },
        "id": "4Q8-CJTdBj76",
        "outputId": "28f7f4c5-9d9d-4256-a632-ede9745bebbc"
      },
      "source": [
        "number3 = int(input(\"Number: \"))\n",
        "sum3 = 0\n",
        "for i in range(1, number3 + 1):\n",
        "  sum3 = sum3 + i\n",
        "print(\"tổng các số là:\", sum3)"
      ],
      "execution_count": 18,
      "outputs": [
        {
          "output_type": "stream",
          "name": "stdout",
          "text": [
            "Number: 3\n",
            "tổng các số là: 6\n"
          ]
        }
      ]
    },
    {
      "cell_type": "markdown",
      "metadata": {
        "id": "zGgSYrP7Df5A"
      },
      "source": [
        "4: Write a program to print multiplication table of a given number with natural numbers\n",
        "from 1 to 10."
      ]
    },
    {
      "cell_type": "code",
      "metadata": {
        "colab": {
          "base_uri": "https://localhost:8080/"
        },
        "id": "H7ParYecDfSR",
        "outputId": "0b593332-b06d-4c79-ea60-63896c8108a3"
      },
      "source": [
        "number4 = int(input(\"Number: \"))\n",
        "\n",
        "print(\"bảng nhân \", number4)\n",
        "for i in range(1, 11):\n",
        "   print(number4,\"X\",i,\"=\",number4 * i)"
      ],
      "execution_count": 59,
      "outputs": [
        {
          "output_type": "stream",
          "name": "stdout",
          "text": [
            "Number: 5\n",
            "bảng nhân  5\n",
            "5 X 1 = 5\n",
            "5 X 2 = 10\n",
            "5 X 3 = 15\n",
            "5 X 4 = 20\n",
            "5 X 5 = 25\n",
            "5 X 6 = 30\n",
            "5 X 7 = 35\n",
            "5 X 8 = 40\n",
            "5 X 9 = 45\n",
            "5 X 10 = 50\n"
          ]
        }
      ]
    },
    {
      "cell_type": "markdown",
      "metadata": {
        "id": "UF19PaZoGCRQ"
      },
      "source": [
        "5: Display numbers from a list using loop"
      ]
    },
    {
      "cell_type": "code",
      "metadata": {
        "colab": {
          "base_uri": "https://localhost:8080/"
        },
        "id": "Vdv9pQzgEdaJ",
        "outputId": "f120f326-de57-40b3-ff7c-0af7e9584622"
      },
      "source": [
        "list1 = [1, 3, 9, 4, 5, 6 ,7,8]\n",
        "for i in list1:\n",
        "  print(i)"
      ],
      "execution_count": 23,
      "outputs": [
        {
          "output_type": "stream",
          "name": "stdout",
          "text": [
            "1\n",
            "3\n",
            "9\n",
            "4\n",
            "5\n",
            "6\n",
            "7\n",
            "8\n"
          ]
        }
      ]
    },
    {
      "cell_type": "markdown",
      "metadata": {
        "id": "BqOEPkjQGfHv"
      },
      "source": [
        "6: Count the total number of digits in a number"
      ]
    },
    {
      "cell_type": "code",
      "metadata": {
        "colab": {
          "base_uri": "https://localhost:8080/"
        },
        "id": "pECGpi7AGeh6",
        "outputId": "f6669362-65ce-4aad-eaa8-20990f10f081"
      },
      "source": [
        "number6 = int(input(\"Number:\"))\n",
        "count = 0\n",
        "while(number6 > 0):\n",
        "    count = count+1\n",
        "    number6 = number6//10\n",
        "print(\"tổng số chữ số trông một số là:\", count)"
      ],
      "execution_count": 26,
      "outputs": [
        {
          "output_type": "stream",
          "name": "stdout",
          "text": [
            "Number:123456\n",
            "tổng số chữ số trông một số là: 6\n"
          ]
        }
      ]
    },
    {
      "cell_type": "markdown",
      "metadata": {
        "id": "pdMK48i5Hjy_"
      },
      "source": [
        "7: Print list in reverse order using a loop"
      ]
    },
    {
      "cell_type": "code",
      "metadata": {
        "colab": {
          "base_uri": "https://localhost:8080/"
        },
        "id": "-ntDhPx-HjJZ",
        "outputId": "6536a126-4d63-4d69-e255-00e8487752df"
      },
      "source": [
        "list1 = [1, 3, 5, 7, 100, 123,\"abc\"]\n",
        "for i in reversed(list1):\n",
        "  print(i)"
      ],
      "execution_count": 27,
      "outputs": [
        {
          "output_type": "stream",
          "name": "stdout",
          "text": [
            "abc\n",
            "123\n",
            "100\n",
            "7\n",
            "5\n",
            "3\n",
            "1\n"
          ]
        }
      ]
    },
    {
      "cell_type": "markdown",
      "metadata": {
        "id": "Of5VqIuBIxcd"
      },
      "source": [
        "8: Display numbers from -10 to -1 using for loop"
      ]
    },
    {
      "cell_type": "code",
      "metadata": {
        "colab": {
          "base_uri": "https://localhost:8080/"
        },
        "id": "s-K-mbSVIw7X",
        "outputId": "db11a40e-8cab-4f8e-9efd-54b928d190af"
      },
      "source": [
        "for i in range(-10, 0):\n",
        "  print(i)"
      ],
      "execution_count": 28,
      "outputs": [
        {
          "output_type": "stream",
          "name": "stdout",
          "text": [
            "-10\n",
            "-9\n",
            "-8\n",
            "-7\n",
            "-6\n",
            "-5\n",
            "-4\n",
            "-3\n",
            "-2\n",
            "-1\n"
          ]
        }
      ]
    },
    {
      "cell_type": "markdown",
      "metadata": {
        "id": "EI6eDUFnJA1d"
      },
      "source": [
        "9:Use else block to display a message “Done” after successful execution of for loop"
      ]
    },
    {
      "cell_type": "code",
      "metadata": {
        "colab": {
          "base_uri": "https://localhost:8080/"
        },
        "id": "FX4TWdAgJAX3",
        "outputId": "cfb3ae74-ab7f-4a1a-eaad-aec57c32c34b"
      },
      "source": [
        "for i in range(10):\n",
        " print(i)\n",
        "else:\n",
        "  print(\"done\")\n"
      ],
      "execution_count": 31,
      "outputs": [
        {
          "output_type": "stream",
          "name": "stdout",
          "text": [
            "0\n",
            "1\n",
            "2\n",
            "3\n",
            "4\n",
            "5\n",
            "6\n",
            "7\n",
            "8\n",
            "9\n",
            "done\n"
          ]
        }
      ]
    },
    {
      "cell_type": "markdown",
      "metadata": {
        "id": "lppDtNY0JuDx"
      },
      "source": [
        "10:Write a program to display all prime numbers within a range"
      ]
    },
    {
      "cell_type": "code",
      "metadata": {
        "colab": {
          "base_uri": "https://localhost:8080/"
        },
        "id": "5D0eNr1LJtaj",
        "outputId": "7a6477eb-e46d-464e-915c-7b6fa77c27af"
      },
      "source": [
        "start1 = int(input(\"Number start: \"))\n",
        "end1 = int(input(\"Number end: \"))\n",
        "print(\"số nguyên tố giữa\", start1, \"and\", end1, )\n",
        "\n",
        "for a in range(start1, end1 + 1):\n",
        "    if a > 1:\n",
        "        for i in range(2, a):\n",
        "            if (a % i) == 0:\n",
        "                break\n",
        "        else:\n",
        "            print(a)"
      ],
      "execution_count": 40,
      "outputs": [
        {
          "output_type": "stream",
          "name": "stdout",
          "text": [
            "Number start: 10\n",
            "Number end: 50\n",
            "số nguyên tố giữa 10 and 50\n",
            "11\n",
            "13\n",
            "17\n",
            "19\n",
            "23\n",
            "29\n",
            "31\n",
            "37\n",
            "41\n",
            "43\n",
            "47\n"
          ]
        }
      ]
    },
    {
      "cell_type": "markdown",
      "metadata": {
        "id": "qzz0bgJcMm-4"
      },
      "source": [
        "11: Display Fibonacci series up to 10 terms"
      ]
    },
    {
      "cell_type": "code",
      "metadata": {
        "colab": {
          "base_uri": "https://localhost:8080/"
        },
        "id": "3gfBrbSRMmMq",
        "outputId": "d3e1ad57-e975-4074-f1cc-2b529441fa6a"
      },
      "source": [
        "number1, number2 = 0, 1\n",
        "print(\"Chuỗi Fibonacci:\")\n",
        "for i in range(10):\n",
        "    print(number1, end=\" \")\n",
        "    res = number1 + number2\n",
        "    number1 = number2\n",
        "    number2 = res"
      ],
      "execution_count": 42,
      "outputs": [
        {
          "output_type": "stream",
          "name": "stdout",
          "text": [
            "Chuỗi Fibonacci:\n",
            "0 1 1 2 3 5 8 13 21 34 "
          ]
        }
      ]
    },
    {
      "cell_type": "markdown",
      "metadata": {
        "id": "EbJG8d75NaoI"
      },
      "source": [
        "12:Find the factorial of a given number"
      ]
    },
    {
      "cell_type": "code",
      "metadata": {
        "colab": {
          "base_uri": "https://localhost:8080/"
        },
        "id": "npbiZWIxNvI5",
        "outputId": "5aeaccd2-b371-48aa-ff51-d9dddaeaddaa"
      },
      "source": [
        "number1 = int(input(\"Number: \"))\n",
        "factorial = 1\n",
        "while number1 < 0:\n",
        "    print(\"nhập một số không âm\")\n",
        "    number1 = int(input(\"Number: \"))\n",
        "if number1 == 0:\n",
        "    print(\"Factorial 0 is 1\")\n",
        "else:\n",
        "    for i in range(1, number1 + 1):\n",
        "        factorial = factorial * i\n",
        "  \n",
        "    print(\"giai thừa\", number12, \":\", factorial)"
      ],
      "execution_count": 51,
      "outputs": [
        {
          "output_type": "stream",
          "name": "stdout",
          "text": [
            "Number: 10\n",
            "giai thừa 10 : 3628800\n"
          ]
        }
      ]
    },
    {
      "cell_type": "markdown",
      "metadata": {
        "id": "xIIKjiTcPZto"
      },
      "source": [
        "13:Reverse a given integer number"
      ]
    },
    {
      "cell_type": "code",
      "metadata": {
        "colab": {
          "base_uri": "https://localhost:8080/"
        },
        "id": "t1tvqWPyPU16",
        "outputId": "35bbd81e-35c9-4ae2-e736-ca7acfcfa7d3"
      },
      "source": [
        "number1 = int(input(\"Number: \"))\n",
        "rev_number = 0\n",
        "print(\"Entered Number: \", number1)\n",
        "while number1 > 0:\n",
        "    a = number1 % 10\n",
        "    rev_number = (rev_number * 10) + a\n",
        "    number1 = number1 // 10\n",
        "print(\"Reverse Number: \", rev_number)\n"
      ],
      "execution_count": 53,
      "outputs": [
        {
          "output_type": "stream",
          "name": "stdout",
          "text": [
            "Number: 1234\n",
            "Entered Number:  1234\n",
            "Reverse Number:  4321\n"
          ]
        }
      ]
    },
    {
      "cell_type": "markdown",
      "metadata": {
        "id": "vUbeeflcdZrm"
      },
      "source": [
        "14: Use a loop to display elements from a given list present at odd index positions"
      ]
    },
    {
      "cell_type": "code",
      "metadata": {
        "colab": {
          "base_uri": "https://localhost:8080/"
        },
        "id": "eFYjZtGadYrp",
        "outputId": "b3b93978-6390-454c-9d47-b6886f65300b"
      },
      "source": [
        "list14 = [\"xin\", \"chào\", \"mọi\", \"người\", 1, 2, 1000, 10000000, 234, \"a\"]\n",
        "for i in list14[1::2]:\n",
        "    print(i, end=\", \")"
      ],
      "execution_count": 58,
      "outputs": [
        {
          "output_type": "stream",
          "name": "stdout",
          "text": [
            "chào, người, 2, 10000000, a, "
          ]
        }
      ]
    }
  ]
}