{
  "nbformat": 4,
  "nbformat_minor": 0,
  "metadata": {
    "colab": {
      "name": "baitaplaptrinhvoitaptin.ipynb",
      "provenance": [],
      "authorship_tag": "ABX9TyN5e1AYd2q9rAxQP2dDjZvI",
      "include_colab_link": true
    },
    "kernelspec": {
      "name": "python3",
      "display_name": "Python 3"
    },
    "language_info": {
      "name": "python"
    }
  },
  "cells": [
    {
      "cell_type": "markdown",
      "metadata": {
        "id": "view-in-github",
        "colab_type": "text"
      },
      "source": [
        "<a href=\"https://colab.research.google.com/github/nguyenvandien2003/baitapmoi/blob/main/baitaplaptrinhvoitaptin.ipynb\" target=\"_parent\"><img src=\"https://colab.research.google.com/assets/colab-badge.svg\" alt=\"Open In Colab\"/></a>"
      ]
    },
    {
      "cell_type": "markdown",
      "metadata": {
        "id": "qHQZMqeWURZn"
      },
      "source": [
        "1: Viết chương trình thực hiện các yêu cầu sau:\n",
        "- Nhập một chuỗi kí tự từ bàn phím\n",
        "- Nhập tên tập tin từ bàn phím\n",
        "- Lưu chuỗi ký tự ở trên vào tập tin."
      ]
    },
    {
      "cell_type": "code",
      "metadata": {
        "colab": {
          "base_uri": "https://localhost:8080/"
        },
        "id": "nNnKMDTUSLm3",
        "outputId": "0fa6f364-8143-4a7b-cc85-d08d9d5a69e8"
      },
      "source": [
        "chuoi = input(\"Chuỗi: \")\n",
        "tenteptin = input(\"Tên file: \")\n",
        "f = open(tenteptin, 'w')\n",
        "f.write(chuoi)\n",
        "f.close()"
      ],
      "execution_count": 12,
      "outputs": [
        {
          "name": "stdout",
          "output_type": "stream",
          "text": [
            "Chuỗi: xin chào mọi người\n",
            "Tên file: nguyenvandien\n"
          ]
        }
      ]
    },
    {
      "cell_type": "markdown",
      "metadata": {
        "id": "E2QdxI-aUVs3"
      },
      "source": [
        "2: Viết chương trình thực hiện các yêu cầu sau:\n",
        "- Nhập tên tập tin từ bàn phím\n",
        "- Đọc nội dung tập tin và in ra màn hình"
      ]
    },
    {
      "cell_type": "code",
      "metadata": {
        "colab": {
          "base_uri": "https://localhost:8080/"
        },
        "id": "nsAvINkZUQfI",
        "outputId": "00339b96-bbce-42eb-d04f-d166b6cccd9d"
      },
      "source": [
        "tenteptin = input(\"Tên file: \")\n",
        "f = open(tenteptin, 'r')\n",
        "doc = f.read()\n",
        "print(doc)\n",
        "f.close()"
      ],
      "execution_count": 13,
      "outputs": [
        {
          "output_type": "stream",
          "name": "stdout",
          "text": [
            "Tên file: nguyenvandien\n",
            "xin chào mọi người\n"
          ]
        }
      ]
    },
    {
      "cell_type": "markdown",
      "metadata": {
        "id": "vr2GZoQdUeJX"
      },
      "source": [
        "3: Viết chương trình thực hiện các yêu cầu sau:\n",
        "- Nhập tên tập tin từ bàn phím\n",
        "- Nhập một chuỗi kí tự vào từ bàn phím\n",
        "- Ghi chuỗi kí tự này vào cuối tập tin ở trên"
      ]
    },
    {
      "cell_type": "code",
      "metadata": {
        "colab": {
          "base_uri": "https://localhost:8080/"
        },
        "id": "bRThGlx0UdhX",
        "outputId": "b9c050a2-6c5c-420e-efd6-063bfa46c2f2"
      },
      "source": [
        "tenteptin = input(\"Tên file: \")\n",
        "chuoi = input(\"Chuỗi: \")\n",
        "f = open(tenteptin, 'a')\n",
        "f.write(chuoi)\n",
        "f.close()"
      ],
      "execution_count": 14,
      "outputs": [
        {
          "name": "stdout",
          "output_type": "stream",
          "text": [
            "Tên file: nguyenvandien\n",
            "Chuỗi:  mình tên là nguyễn văn diện lớp AI k2 \n"
          ]
        }
      ]
    },
    {
      "cell_type": "markdown",
      "metadata": {
        "id": "ltROu_mOUtfX"
      },
      "source": [
        "4: Viết chương trình thực hiện các yêu cầu sau:\n",
        "- Đọc tập tin ở bài 3 và ghi kết quả ra màn hình"
      ]
    },
    {
      "cell_type": "code",
      "metadata": {
        "colab": {
          "base_uri": "https://localhost:8080/"
        },
        "id": "RKulCiRoUtCo",
        "outputId": "24c9bb21-6c8c-433f-bc1c-1cf621611a85"
      },
      "source": [
        "f = open(tenteptin, 'r')\n",
        "doc = f.read()\n",
        "print(doc)\n",
        "f.close()"
      ],
      "execution_count": 15,
      "outputs": [
        {
          "output_type": "stream",
          "name": "stdout",
          "text": [
            "xin chào mọi người mình tên là nguyễn văn diện lớp AI k2 \n"
          ]
        }
      ]
    }
  ]
}