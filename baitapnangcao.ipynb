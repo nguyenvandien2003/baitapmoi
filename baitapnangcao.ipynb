{
  "nbformat": 4,
  "nbformat_minor": 0,
  "metadata": {
    "colab": {
      "name": "baitapnangcao.ipynb",
      "provenance": [],
      "authorship_tag": "ABX9TyNuVWGUFa6da4VBzxOrm8e4",
      "include_colab_link": true
    },
    "kernelspec": {
      "name": "python3",
      "display_name": "Python 3"
    },
    "language_info": {
      "name": "python"
    }
  },
  "cells": [
    {
      "cell_type": "markdown",
      "metadata": {
        "id": "view-in-github",
        "colab_type": "text"
      },
      "source": [
        "<a href=\"https://colab.research.google.com/github/nguyenvandien2003/baitapmoi/blob/main/baitapnangcao.ipynb\" target=\"_parent\"><img src=\"https://colab.research.google.com/assets/colab-badge.svg\" alt=\"Open In Colab\"/></a>"
      ]
    },
    {
      "cell_type": "markdown",
      "metadata": {
        "id": "4UbU3c2XkmB7"
      },
      "source": [
        "1:Viết chương trình thực hiện các yêu cầu sau:\n",
        "- Nhập vào 1 số nguyên dương N từ bàn phím\n",
        "- Hãy xây dựng 1 dictionary với các phần tử chỉ mục và giá trị có dạng (i: log(i)) với I đi từ\n",
        "0 tới N\n",
        "- Hiển thị dictionary trên ra màn hình"
      ]
    },
    {
      "cell_type": "code",
      "metadata": {
        "colab": {
          "base_uri": "https://localhost:8080/"
        },
        "id": "R4lkPjCMjrNs",
        "outputId": "e484d55b-0e04-4e17-c6bf-87c1a804ddec"
      },
      "source": [
        "import math\n",
        "number1 = int(input(\"Nhập n: \"))\n",
        "dict1 = {}\n",
        "for i in range(1, number1+1):\n",
        "  dict1[i] = math.log(i)\n",
        "print(dict1)"
      ],
      "execution_count": 7,
      "outputs": [
        {
          "output_type": "stream",
          "name": "stdout",
          "text": [
            "Nhập n: 10\n",
            "{1: 0.0, 2: 0.6931471805599453, 3: 1.0986122886681098, 4: 1.3862943611198906, 5: 1.6094379124341003, 6: 1.791759469228055, 7: 1.9459101490553132, 8: 2.0794415416798357, 9: 2.1972245773362196, 10: 2.302585092994046}\n"
          ]
        }
      ]
    },
    {
      "cell_type": "markdown",
      "metadata": {
        "id": "ioiKXVYauScZ"
      },
      "source": [
        "2:Viết chương trình thực hiện các yêu cầu sau:\n",
        "- Nhập vào từ bàn phím một chuỗi các giá trị (có thể là số nguyên, số thực hay các ký tự)\n",
        "cách nhau bởi dấu phẩy (“,”).\n",
        "- Chuyển chuỗi được nhập từ bàn phím thành một danh sách (list)\n",
        "- Hiển thị danh sách đó ra màn hình."
      ]
    },
    {
      "cell_type": "code",
      "metadata": {
        "colab": {
          "base_uri": "https://localhost:8080/"
        },
        "id": "z8155Iw6uSFS",
        "outputId": "47ec2ee4-7549-4091-f3a5-e9adbf02861b"
      },
      "source": [
        "str2 = st(input(\"Nhập chuỗi: \"))\n",
        "list2 = []\n",
        "res2 = \"\"\n",
        "for i in range(len(str2)):\n",
        "  if str2[i] != \",\":\n",
        "    res2 = res2 + str2[i]\n",
        "  else:\n",
        "    list2.append(res2)\n",
        "    res2 = \"\"\n",
        "else:\n",
        "  list2.append(res2)\n",
        "print(list2)"
      ],
      "execution_count": 12,
      "outputs": [
        {
          "output_type": "stream",
          "name": "stdout",
          "text": [
            "Nhập chuỗi: xin,chào , mọi ,người , 123\n",
            "['xin', 'chào ', ' mọi ', 'người ', ' 123']\n"
          ]
        }
      ]
    },
    {
      "cell_type": "markdown",
      "metadata": {
        "id": "rHSLi-ctvkTC"
      },
      "source": [
        "3:Viết chương trình thực hiện các yêu cầu sau:\n",
        "- Nhập vào từ bàn phím một chuỗi các giá trị (có thể là số nguyên, số thực hay các ký tự)\n",
        "cách nhau bởi dấu phẩy (“,”).\n",
        "- Chuyển chuỗi được nhập từ bàn phím thành một tuple\n",
        "- Hiển thị tuple đó ra màn hình."
      ]
    },
    {
      "cell_type": "code",
      "metadata": {
        "colab": {
          "base_uri": "https://localhost:8080/"
        },
        "id": "_QOa3TLYwcE6",
        "outputId": "c67dc4a6-a45f-4ae2-91e2-736e5cc9543b"
      },
      "source": [
        "str3 = str(input(\"Nhập chuỗi: \"))\n",
        "list3 = []\n",
        "tuple3 = ()\n",
        "res3 = \"\"\n",
        "for i in range(len(str3)):\n",
        "  if str3[i] != \",\":\n",
        "    res3 = res3 + str3[i]\n",
        "  else:\n",
        "    list3.append(res3)\n",
        "    res3 = \"\"\n",
        "else:\n",
        "  list3.append(res3)\n",
        "tuple3 = tuple(list3)\n",
        "print(tuple3)"
      ],
      "execution_count": 16,
      "outputs": [
        {
          "output_type": "stream",
          "name": "stdout",
          "text": [
            "Nhập chuỗi: xin, lỗi,mọi,người\n",
            "('xin', ' lỗi', 'mọi', 'người')\n"
          ]
        }
      ]
    }
  ]
}