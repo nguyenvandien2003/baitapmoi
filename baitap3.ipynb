{
  "nbformat": 4,
  "nbformat_minor": 0,
  "metadata": {
    "colab": {
      "name": "baitap3.ipynb",
      "provenance": [],
      "authorship_tag": "ABX9TyPcy758W2FDgN7UnE6R3OZl",
      "include_colab_link": true
    },
    "kernelspec": {
      "name": "python3",
      "display_name": "Python 3"
    },
    "language_info": {
      "name": "python"
    }
  },
  "cells": [
    {
      "cell_type": "markdown",
      "metadata": {
        "id": "view-in-github",
        "colab_type": "text"
      },
      "source": [
        "<a href=\"https://colab.research.google.com/github/nguyenvandien2003/baitapmoi/blob/main/baitap3.ipynb\" target=\"_parent\"><img src=\"https://colab.research.google.com/assets/colab-badge.svg\" alt=\"Open In Colab\"/></a>"
      ]
    },
    {
      "cell_type": "markdown",
      "metadata": {
        "id": "VHPYMNt2vHQq"
      },
      "source": [
        "1"
      ]
    },
    {
      "cell_type": "code",
      "metadata": {
        "colab": {
          "base_uri": "https://localhost:8080/"
        },
        "id": "i6at97-Fu5D3",
        "outputId": "388a012a-4863-40ac-d916-5ece81ccb613"
      },
      "source": [
        "\n",
        "L = [1,2,3,4,5,6,7]\n",
        "print('sum of list:',sum(L))"
      ],
      "execution_count": 2,
      "outputs": [
        {
          "output_type": "stream",
          "name": "stdout",
          "text": [
            "sum of list: 28\n"
          ]
        }
      ]
    },
    {
      "cell_type": "markdown",
      "metadata": {
        "id": "TWDVQrhUDbSi"
      },
      "source": [
        "2"
      ]
    },
    {
      "cell_type": "code",
      "metadata": {
        "colab": {
          "base_uri": "https://localhost:8080/"
        },
        "id": "_EISB5k_11hq",
        "outputId": "5129389f-1aff-41e6-f030-cadb2c9dc005"
      },
      "source": [
        "import numpy\n",
        "L1 = [2,3,4,5,1,]\n",
        "print(\"tích các phần tử trong L1:\",numpy.prod(L1))"
      ],
      "execution_count": 53,
      "outputs": [
        {
          "output_type": "stream",
          "name": "stdout",
          "text": [
            "tích các phần tử trong L1: 120\n"
          ]
        }
      ]
    },
    {
      "cell_type": "markdown",
      "metadata": {
        "id": "a9ucbLNgEr6y"
      },
      "source": [
        "3"
      ]
    },
    {
      "cell_type": "code",
      "metadata": {
        "colab": {
          "base_uri": "https://localhost:8080/"
        },
        "id": "Ch89z_1lEq1U",
        "outputId": "7b81213d-50f6-4e9c-a4cd-76c530c0a3d0"
      },
      "source": [
        "L1 = [1,2,4,5,6,8]\n",
        "print(\"phần tử lớn nhất trong L1:\",max(L1))"
      ],
      "execution_count": 30,
      "outputs": [
        {
          "output_type": "stream",
          "name": "stdout",
          "text": [
            "phần tử lớn nhất trong L1: 8\n"
          ]
        }
      ]
    },
    {
      "cell_type": "markdown",
      "metadata": {
        "id": "CAG_bGEZFNri"
      },
      "source": [
        "4"
      ]
    },
    {
      "cell_type": "code",
      "metadata": {
        "colab": {
          "base_uri": "https://localhost:8080/"
        },
        "id": "-WogH8LKFMlE",
        "outputId": "6d93475c-645a-48b0-8dcb-1519d64c5665"
      },
      "source": [
        "L1 = [2,4,7,1,9,5,]\n",
        "print(\"phần tử nhỏ nhất trong L1:\",min(L1))"
      ],
      "execution_count": 31,
      "outputs": [
        {
          "output_type": "stream",
          "name": "stdout",
          "text": [
            "phần tử nhỏ nhất trong L1: 1\n"
          ]
        }
      ]
    },
    {
      "cell_type": "markdown",
      "metadata": {
        "id": "OBT_0xfIFoT6"
      },
      "source": [
        "5"
      ]
    },
    {
      "cell_type": "code",
      "metadata": {
        "colab": {
          "base_uri": "https://localhost:8080/"
        },
        "id": "I0SG-RrmFneS",
        "outputId": "1d4e0bba-0135-49fc-a419-15a3fe5585e4"
      },
      "source": [
        "list2 = [2,4,6,7,0,1,9]\n",
        "list2.sort(reverse=True)\n",
        "print(\"sắp xếp giảm dần:\",end= \"\" )\n",
        "print(list2)"
      ],
      "execution_count": 62,
      "outputs": [
        {
          "output_type": "stream",
          "name": "stdout",
          "text": [
            "sắp xếp giảm dần:[9, 7, 6, 4, 2, 1, 0]\n"
          ]
        }
      ]
    },
    {
      "cell_type": "markdown",
      "metadata": {
        "id": "ZuPJP0-tGpti"
      },
      "source": [
        "6"
      ]
    },
    {
      "cell_type": "code",
      "metadata": {
        "colab": {
          "base_uri": "https://localhost:8080/"
        },
        "id": "5Yz89FouGpHz",
        "outputId": "73824c6d-3b75-4e2b-f2cd-8efd04d77bac"
      },
      "source": [
        "list2 = [2,5,6,8,1,0]\n",
        "list2.sort(reverse=False)\n",
        "print(\"theo thứ tự tăng dần:\",end=\"\")\n",
        "print(list2)"
      ],
      "execution_count": 60,
      "outputs": [
        {
          "output_type": "stream",
          "name": "stdout",
          "text": [
            "theo thứ tự tăng dần:[0, 1, 2, 5, 6, 8]\n"
          ]
        }
      ]
    },
    {
      "cell_type": "markdown",
      "metadata": {
        "id": "jM339bpGHOrK"
      },
      "source": [
        "7"
      ]
    },
    {
      "cell_type": "code",
      "metadata": {
        "colab": {
          "base_uri": "https://localhost:8080/"
        },
        "id": "wnBfaHKLHOD9",
        "outputId": "d40a31ba-33f9-4485-d70a-9443e0b2cb82"
      },
      "source": [
        "list2 = [2,3,5,6,3,6]\n",
        "print(\"kích thước list2:\",end=\"\")\n",
        "print(len(list2))"
      ],
      "execution_count": 48,
      "outputs": [
        {
          "output_type": "stream",
          "name": "stdout",
          "text": [
            "kích thước list2:6\n"
          ]
        }
      ]
    },
    {
      "cell_type": "markdown",
      "metadata": {
        "id": "RZ30wef1J-8S"
      },
      "source": [
        "8"
      ]
    },
    {
      "cell_type": "code",
      "metadata": {
        "colab": {
          "base_uri": "https://localhost:8080/"
        },
        "id": "PDmgqSlIJ-Lb",
        "outputId": "9cf69cb0-2c10-48e3-9d2f-a202a28ca83b"
      },
      "source": [
        "import random\n",
        "list2 = [2,4,6,7,8]\n",
        "print(\"lấy phần tử ngẫu nhiên trong list2:\",random.choice(list2))"
      ],
      "execution_count": 49,
      "outputs": [
        {
          "output_type": "stream",
          "name": "stdout",
          "text": [
            "lấy phần tử ngẫu nhiên trong list2: 2\n"
          ]
        }
      ]
    },
    {
      "cell_type": "markdown",
      "metadata": {
        "id": "NwD72P4aKjr-"
      },
      "source": [
        "9 "
      ]
    },
    {
      "cell_type": "code",
      "metadata": {
        "colab": {
          "base_uri": "https://localhost:8080/"
        },
        "id": "JbmqDUkEKjDL",
        "outputId": "fa33a952-a062-4081-cbd4-55731050c6a6"
      },
      "source": [
        "list1 = [2,3,4,6,7]\n",
        "list2 = [1,4,5,8,9]\n",
        "print(\"list1 + list2:\",list1 + list2)"
      ],
      "execution_count": 50,
      "outputs": [
        {
          "output_type": "stream",
          "name": "stdout",
          "text": [
            "list1 + list2: [2, 3, 4, 6, 7, 1, 4, 5, 8, 9]\n"
          ]
        }
      ]
    }
  ]
}