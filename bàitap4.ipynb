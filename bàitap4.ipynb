{
  "nbformat": 4,
  "nbformat_minor": 0,
  "metadata": {
    "colab": {
      "name": "bàitap4.ipynb",
      "provenance": [],
      "authorship_tag": "ABX9TyNqoH2tKkTzwVuDf8BSPEbD",
      "include_colab_link": true
    },
    "kernelspec": {
      "name": "python3",
      "display_name": "Python 3"
    },
    "language_info": {
      "name": "python"
    }
  },
  "cells": [
    {
      "cell_type": "markdown",
      "metadata": {
        "id": "view-in-github",
        "colab_type": "text"
      },
      "source": [
        "<a href=\"https://colab.research.google.com/github/nguyenvandien2003/baitapmoi/blob/main/b%C3%A0itap4.ipynb\" target=\"_parent\"><img src=\"https://colab.research.google.com/assets/colab-badge.svg\" alt=\"Open In Colab\"/></a>"
      ]
    },
    {
      "cell_type": "markdown",
      "metadata": {
        "id": "w6mKeuButyUC"
      },
      "source": [
        "1\n",
        "\n"
      ]
    },
    {
      "cell_type": "code",
      "metadata": {
        "colab": {
          "base_uri": "https://localhost:8080/"
        },
        "id": "lTQn9Yrgo7FF",
        "outputId": "2c32cd73-7a3b-42d5-d9f4-9f5132aafc75"
      },
      "source": [
        "x  = float(input(\"nhập giá trị vào bàn phím\"))\n",
        "if x < 0:\n",
        "  print(\"giá trị là số âm \")\n",
        "if x > 0:\n",
        "  print(\"giá trị là số dương\")\n",
        "if x == 0:\n",
        "  print(\"giá trị bằng 0\")\n",
        " \n",
        "print(\"kết thúc chương trình\")"
      ],
      "execution_count": 6,
      "outputs": [
        {
          "output_type": "stream",
          "name": "stdout",
          "text": [
            "nhập giá trị vào bàn phím35\n",
            "giá trị là số dương\n",
            "kết thúc chương trình\n"
          ]
        }
      ]
    },
    {
      "cell_type": "markdown",
      "metadata": {
        "id": "SlDdvCRzu706"
      },
      "source": [
        "2"
      ]
    },
    {
      "cell_type": "code",
      "metadata": {
        "colab": {
          "base_uri": "https://localhost:8080/"
        },
        "id": "rQHlrMQTu61K",
        "outputId": "0ff5463d-ede5-432f-fcc9-02df4e956984"
      },
      "source": [
        "num_1 = int(input(\"nhập số :\"))\n",
        "num_2 = int(input(\"nhập số :\"))\n",
        "num_3 = int(input(\"nhập số :\"))\n",
        "if (num_1 >= num_3) and (num_1 >= num_2):\n",
        " largest = num_1\n",
        "elif (num_2 <= num_3) and (num_2 <= num_1 ):\n",
        " largest = num_2\n",
        "else:\n",
        "  largest = num_3\n",
        "print(\"số lớn nhất là\",largest)\n"
      ],
      "execution_count": 11,
      "outputs": [
        {
          "output_type": "stream",
          "name": "stdout",
          "text": [
            "nhập số :25\n",
            "nhập số :78\n",
            "nhập số :87\n",
            "số lớn nhất là 87\n"
          ]
        }
      ]
    },
    {
      "cell_type": "markdown",
      "metadata": {
        "id": "XTuF5-_e2LpB"
      },
      "source": [
        "3"
      ]
    },
    {
      "cell_type": "code",
      "metadata": {
        "colab": {
          "base_uri": "https://localhost:8080/"
        },
        "id": "Xc69RFZZ2KtD",
        "outputId": "a6fb8a8e-93e5-4f27-b63a-18926ad3ca88"
      },
      "source": [
        "num = float(input('enter number:'))\n",
        "if (num == 0):\n",
        "    print('zero')\n",
        "elif (num > 0):\n",
        "    pon = 'poritive number'\n",
        "else:        \n",
        "    pon = 'negative number'\n",
        "if (abs(num) < 1):\n",
        "    print('smal' + pon)\n",
        "elif (abs(num) > 100000):\n",
        "    print('large' + pon)\n",
        "else:            \n",
        "    print(pon) "
      ],
      "execution_count": 19,
      "outputs": [
        {
          "output_type": "stream",
          "name": "stdout",
          "text": [
            "enter number:3\n",
            "poritive number\n"
          ]
        }
      ]
    },
    {
      "cell_type": "markdown",
      "metadata": {
        "id": "hpozX0GD2S8R"
      },
      "source": [
        "4"
      ]
    },
    {
      "cell_type": "code",
      "metadata": {
        "colab": {
          "base_uri": "https://localhost:8080/"
        },
        "id": "DqthvJPx2Sba",
        "outputId": "91876e99-716d-438f-e6f5-ba3bf9b65391"
      },
      "source": [
        "# Taken day number from user\n",
        "weekday = int(input(\"nhập số ngày trong tuần (1-7) : \"))\n",
        "\n",
        "if weekday == 1 :\n",
        "    print(\"thứ 2\");\n",
        "\n",
        "elif weekday == 2 :\n",
        "    print(\"thứ 3\")\n",
        "\n",
        "elif(weekday == 3) :\n",
        "    print(\"thứ 4\")\n",
        "\n",
        "elif(weekday == 4) :\n",
        "    print(\"thứ 5\")\n",
        "\n",
        "elif(weekday == 5) :\n",
        "    print(\"thứ 6\")\n",
        "\n",
        "elif(weekday == 6) :\n",
        "    print(\"thứ 7\")\n",
        "\n",
        "elif (weekday == 7) :\n",
        "    print(\"chủ nhật\")\n",
        "\n",
        "else :\n",
        "    print(\"hiển thị ngày trong tuần.\")\n"
      ],
      "execution_count": 15,
      "outputs": [
        {
          "output_type": "stream",
          "name": "stdout",
          "text": [
            "nhập số ngày trong tuần (1-7) : 3\n",
            "thứ 4\n"
          ]
        }
      ]
    },
    {
      "cell_type": "markdown",
      "metadata": {
        "id": "b5DXHMh3GmVC"
      },
      "source": [
        "5"
      ]
    },
    {
      "cell_type": "code",
      "metadata": {
        "colab": {
          "base_uri": "https://localhost:8080/"
        },
        "id": "8LMSD_6OGltD",
        "outputId": "2a2cc080-d7df-45df-bb8f-963f4002bd7a"
      },
      "source": [
        "x1 = float(input(\"x1=\"))\n",
        "x2 = float(input(\"x2=\"))\n",
        "x1=x1*1000\n",
        "x2=x2*1000\n",
        "if x1//1==x2//1:\n",
        "  print(\"2 số giống nhau đến 3 chữ số thập phân\")\n",
        "else:\n",
        "  print(\"2 số giống giống nhau đến 3 chữ số thập phân\")  "
      ],
      "execution_count": 21,
      "outputs": [
        {
          "output_type": "stream",
          "name": "stdout",
          "text": [
            "x1=25.123456\n",
            "x2=25.123567\n",
            "2 số giống nhau đến 3 chữ số thập phân\n"
          ]
        }
      ]
    }
  ]
}